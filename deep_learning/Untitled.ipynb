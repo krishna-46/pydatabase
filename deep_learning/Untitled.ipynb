{
 "cells": [
  {
   "cell_type": "code",
   "execution_count": 2,
   "id": "c0bb0c1c-30aa-4004-9b0a-7ec091399c54",
   "metadata": {},
   "outputs": [],
   "source": [
    "import tensorflow as tf\n",
    "from tensorflow.keras.models import Sequential\n",
    "from tensorflow.keras.layers import Dense,Dropout,Flatten"
   ]
  },
  {
   "cell_type": "code",
   "execution_count": 3,
   "id": "1877ddd5-67f0-4c3a-a37b-1cc2f53f6de7",
   "metadata": {},
   "outputs": [],
   "source": [
    "mnist = tf.keras.datasets.mnist"
   ]
  },
  {
   "cell_type": "code",
   "execution_count": 4,
   "id": "e95be64e-bb43-4c22-81a7-e4588425ee28",
   "metadata": {},
   "outputs": [],
   "source": [
    "(x_train , y_train),(x_test , y_test)=mnist.load_data()"
   ]
  },
  {
   "cell_type": "code",
   "execution_count": 5,
   "id": "b7ef10e0-297c-4f20-9a55-7e20a310a411",
   "metadata": {},
   "outputs": [
    {
     "name": "stdout",
     "output_type": "stream",
     "text": [
      "y_train : [5 0 4 ... 5 6 8]\n"
     ]
    },
    {
     "data": {
      "image/png": "[encoded data removed]",
      "text/plain": [
       "<Figure size 432x288 with 1 Axes>"
      ]
     },
     "metadata": {
      "needs_background": "light"
     },
     "output_type": "display_data"
    }
   ],
   "source": [
    "print(\"y_train :\",y_train)\n",
    "import matplotlib.pyplot as plt\n",
    "plt.imshow(x_train[5])\n",
    "plt.show()\n"
   ]
  },
  {
   "cell_type": "code",
   "execution_count": 6,
   "id": "cb518c07-1221-4cd9-a0e2-eba323b15b3a",
   "metadata": {},
   "outputs": [],
   "source": [
    "model = tf.keras.models.Sequential([\n",
    "    Flatten(input_shape=(28,28)),\n",
    "    Dense(512 , activation='relu'),\n",
    "    Dropout(0.2),\n",
    "    Dense(10,activation='softmax')\n",
    "\n",
    "])"
   ]
  },
  {
   "cell_type": "code",
   "execution_count": 7,
   "id": "130c8d62-5549-4e56-89d1-b53959f4b137",
   "metadata": {},
   "outputs": [],
   "source": [
    "model.compile(optimizer='sgd' , loss='sparse_categorical_crossentropy',metrics=['accuracy'])"
   ]
  },
  {
   "cell_type": "code",
   "execution_count": 8,
   "id": "4effaf8e-dbbf-466d-bffc-6795e321d962",
   "metadata": {},
   "outputs": [],
   "source": [
    "import os , datetime\n",
    "\n",
    "log =os.path.join('logs',datetime.datetime.now().strftime('%y%m%d-%H%M%S'))\n",
    "tc = tf.keras.callbacks.TensorBoard(log,histogram_freq=1)"
   ]
  },
  {
   "cell_type": "code",
   "execution_count": 9,
   "id": "86d70235-a01f-4316-8719-4696ef41a4ec",
   "metadata": {},
   "outputs": [],
   "source": [
    "cp = 'Model_checkpoint/CP-{epoch:04d}.ckpt'\n",
    "cpd=os.path.dirname(cp)\n",
    "cpc = tf.keras.callbacks.ModelCheckpoint(\n",
    "    cp,monitor='val_acc' , verbose=1,save_weight_only=True,\n",
    "    save_freq='epoch'\n",
    ")"
   ]
  },
  {
   "cell_type": "code",
   "execution_count": 10,
   "id": "ba1f1724-ceed-4b70-8211-f0142d8e6ae6",
   "metadata": {},
   "outputs": [
    {
     "name": "stdout",
     "output_type": "stream",
     "text": [
      "Epoch 1/5\n",
      "1869/1875 [============================>.] - ETA: 0s - loss: 2.6645 - accuracy: 0.8745\n",
      "Epoch 1: saving model to Model_checkpoint\\CP-0001.ckpt\n"
     ]
    },
    {
     "name": "stderr",
     "output_type": "stream",
     "text": [
      "WARNING:absl:Found untraced functions such as _update_step_xla while saving (showing 1 of 1). These functions will not be directly callable after loading.\n"
     ]
    },
    {
     "name": "stdout",
     "output_type": "stream",
     "text": [
      "INFO:tensorflow:Assets written to: Model_checkpoint\\CP-0001.ckpt\\assets\n"
     ]
    },
    {
     "name": "stderr",
     "output_type": "stream",
     "text": [
      "INFO:tensorflow:Assets written to: Model_checkpoint\\CP-0001.ckpt\\assets\n"
     ]
    },
    {
     "name": "stdout",
     "output_type": "stream",
     "text": [
      "1875/1875 [==============================] - 8s 4ms/step - loss: 2.6580 - accuracy: 0.8745 - val_loss: 0.3713 - val_accuracy: 0.9200\n",
      "Epoch 2/5\n",
      "1861/1875 [============================>.] - ETA: 0s - loss: 0.4331 - accuracy: 0.9069\n",
      "Epoch 2: saving model to Model_checkpoint\\CP-0002.ckpt\n"
     ]
    },
    {
     "name": "stderr",
     "output_type": "stream",
     "text": [
      "WARNING:absl:Found untraced functions such as _update_step_xla while saving (showing 1 of 1). These functions will not be directly callable after loading.\n"
     ]
    },
    {
     "name": "stdout",
     "output_type": "stream",
     "text": [
      "INFO:tensorflow:Assets written to: Model_checkpoint\\CP-0002.ckpt\\assets\n"
     ]
    },
    {
     "name": "stderr",
     "output_type": "stream",
     "text": [
      "INFO:tensorflow:Assets written to: Model_checkpoint\\CP-0002.ckpt\\assets\n"
     ]
    },
    {
     "name": "stdout",
     "output_type": "stream",
     "text": [
      "1875/1875 [==============================] - 7s 4ms/step - loss: 0.4331 - accuracy: 0.9068 - val_loss: 0.3405 - val_accuracy: 0.9262\n",
      "Epoch 3/5\n",
      "1866/1875 [============================>.] - ETA: 0s - loss: 0.4094 - accuracy: 0.9120\n",
      "Epoch 3: saving model to Model_checkpoint\\CP-0003.ckpt\n"
     ]
    },
    {
     "name": "stderr",
     "output_type": "stream",
     "text": [
      "WARNING:absl:Found untraced functions such as _update_step_xla while saving (showing 1 of 1). These functions will not be directly callable after loading.\n"
     ]
    },
    {
     "name": "stdout",
     "output_type": "stream",
     "text": [
      "INFO:tensorflow:Assets written to: Model_checkpoint\\CP-0003.ckpt\\assets\n"
     ]
    },
    {
     "name": "stderr",
     "output_type": "stream",
     "text": [
      "INFO:tensorflow:Assets written to: Model_checkpoint\\CP-0003.ckpt\\assets\n"
     ]
    },
    {
     "name": "stdout",
     "output_type": "stream",
     "text": [
      "1875/1875 [==============================] - 7s 4ms/step - loss: 0.4092 - accuracy: 0.9119 - val_loss: 0.3251 - val_accuracy: 0.9316\n",
      "Epoch 4/5\n",
      "1864/1875 [============================>.] - ETA: 0s - loss: 0.3928 - accuracy: 0.9168\n",
      "Epoch 4: saving model to Model_checkpoint\\CP-0004.ckpt\n"
     ]
    },
    {
     "name": "stderr",
     "output_type": "stream",
     "text": [
      "WARNING:absl:Found untraced functions such as _update_step_xla while saving (showing 1 of 1). These functions will not be directly callable after loading.\n"
     ]
    },
    {
     "name": "stdout",
     "output_type": "stream",
     "text": [
      "INFO:tensorflow:Assets written to: Model_checkpoint\\CP-0004.ckpt\\assets\n"
     ]
    },
    {
     "name": "stderr",
     "output_type": "stream",
     "text": [
      "INFO:tensorflow:Assets written to: Model_checkpoint\\CP-0004.ckpt\\assets\n"
     ]
    },
    {
     "name": "stdout",
     "output_type": "stream",
     "text": [
      "1875/1875 [==============================] - 7s 4ms/step - loss: 0.3919 - accuracy: 0.9169 - val_loss: 0.2969 - val_accuracy: 0.9383\n",
      "Epoch 5/5\n",
      "1863/1875 [============================>.] - ETA: 0s - loss: 0.3680 - accuracy: 0.9211\n",
      "Epoch 5: saving model to Model_checkpoint\\CP-0005.ckpt\n"
     ]
    },
    {
     "name": "stderr",
     "output_type": "stream",
     "text": [
      "WARNING:absl:Found untraced functions such as _update_step_xla while saving (showing 1 of 1). These functions will not be directly callable after loading.\n"
     ]
    },
    {
     "name": "stdout",
     "output_type": "stream",
     "text": [
      "INFO:tensorflow:Assets written to: Model_checkpoint\\CP-0005.ckpt\\assets\n"
     ]
    },
    {
     "name": "stderr",
     "output_type": "stream",
     "text": [
      "INFO:tensorflow:Assets written to: Model_checkpoint\\CP-0005.ckpt\\assets\n"
     ]
    },
    {
     "name": "stdout",
     "output_type": "stream",
     "text": [
      "1875/1875 [==============================] - 7s 4ms/step - loss: 0.3673 - accuracy: 0.9212 - val_loss: 0.3036 - val_accuracy: 0.9425\n",
      "313/313 [==============================] - 0s 758us/step - loss: 0.3036 - accuracy: 0.9425\n",
      "orginal model , accuracy:94.25%\n"
     ]
    }
   ],
   "source": [
    "history =model.fit(x_train , y_train,epochs=5,validation_data=(x_test , y_test), callbacks=[tc,cpc])\n",
    "loss,acc =model.evaluate(x_test , y_test , verbose=1)\n",
    "print('orginal model , accuracy:{:5.2f}%'.format(100*acc))"
   ]
  },
  {
   "cell_type": "code",
   "execution_count": null,
   "id": "648f682f-5d3b-4537-92b7-87f827fccec0",
   "metadata": {},
   "outputs": [],
   "source": []
  }
 ],
 "metadata": {
  "kernelspec": {
   "display_name": "Python 3 (ipykernel)",
   "language": "python",
   "name": "python3"
  },
  "language_info": {
   "codemirror_mode": {
    "name": "ipython",
    "version": 3
   },
   "file_extension": ".py",
   "mimetype": "text/x-python",
   "name": "python",
   "nbconvert_exporter": "python",
   "pygments_lexer": "ipython3",
   "version": "3.9.12"
  }
 },
 "nbformat": 4,
 "nbformat_minor": 5
}
