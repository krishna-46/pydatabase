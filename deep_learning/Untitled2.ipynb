{
 "cells": [
  {
   "cell_type": "code",
   "execution_count": 18,
   "id": "ab065fba",
   "metadata": {},
   "outputs": [],
   "source": [
    "import tensorflow as tf\n",
    "from tensorflow.keras.layers import Dense, Dropout, Flatten\n",
    "from tensorflow import keras\n",
    "import os,datetime"
   ]
  },
  {
   "cell_type": "code",
   "execution_count": 19,
   "id": "df30ab51",
   "metadata": {},
   "outputs": [],
   "source": [
    "(x_train , y_train ),(x_test , y_test)=tf.keras.datasets.mnist.load_data()"
   ]
  },
  {
   "cell_type": "code",
   "execution_count": 20,
   "id": "59e1f838",
   "metadata": {},
   "outputs": [],
   "source": [
    "model= tf.keras.models.Sequential([\n",
    "    Flatten(input_shape=(28,28)),\n",
    "    Dense(512 , activation='relu'),\n",
    "    Dropout(0.1),\n",
    "    Dense(10 , activation='softmax')\n",
    "])"
   ]
  },
  {
   "cell_type": "code",
   "execution_count": 21,
   "id": "e329ac0c",
   "metadata": {},
   "outputs": [],
   "source": [
    " model.compile(optimizer='adam' , loss='sparse_categorical_crossentropy' , metrics=['accuracy'])"
   ]
  },
  {
   "cell_type": "code",
   "execution_count": 26,
   "id": "8659688e",
   "metadata": {},
   "outputs": [],
   "source": [
    "\n",
    "tc= tf.keras.callbacks.TensorBoard('log1',histogram_freq = 1)"
   ]
  },
  {
   "cell_type": "code",
   "execution_count": 29,
   "id": "72c01fb8",
   "metadata": {},
   "outputs": [
    {
     "name": "stdout",
     "output_type": "stream",
     "text": [
      "Epoch 1/10\n",
      "1875/1875 [==============================] - 8s 4ms/step - loss: 2.5545 - accuracy: 0.8924 - val_loss: 0.4340 - val_accuracy: 0.9232\n",
      "Epoch 2/10\n",
      "1875/1875 [==============================] - 7s 4ms/step - loss: 0.3879 - accuracy: 0.9194 - val_loss: 0.3175 - val_accuracy: 0.9373\n",
      "Epoch 3/10\n",
      "1875/1875 [==============================] - 7s 4ms/step - loss: 0.3456 - accuracy: 0.9262 - val_loss: 0.3701 - val_accuracy: 0.9265\n",
      "Epoch 4/10\n",
      "1875/1875 [==============================] - 7s 4ms/step - loss: 0.3309 - accuracy: 0.9293 - val_loss: 0.3276 - val_accuracy: 0.9442\n",
      "Epoch 5/10\n",
      "1875/1875 [==============================] - 7s 4ms/step - loss: 0.3052 - accuracy: 0.9340 - val_loss: 0.3496 - val_accuracy: 0.9391\n",
      "Epoch 6/10\n",
      "1875/1875 [==============================] - 7s 4ms/step - loss: 0.2977 - accuracy: 0.9376 - val_loss: 0.2856 - val_accuracy: 0.9427\n",
      "Epoch 7/10\n",
      "1875/1875 [==============================] - 7s 4ms/step - loss: 0.2762 - accuracy: 0.9416 - val_loss: 0.2628 - val_accuracy: 0.9500\n",
      "Epoch 8/10\n",
      "1875/1875 [==============================] - 7s 4ms/step - loss: 0.2611 - accuracy: 0.9434 - val_loss: 0.3000 - val_accuracy: 0.9509\n",
      "Epoch 9/10\n",
      "1875/1875 [==============================] - 7s 4ms/step - loss: 0.2466 - accuracy: 0.9466 - val_loss: 0.3655 - val_accuracy: 0.9469\n",
      "Epoch 10/10\n",
      "1875/1875 [==============================] - 8s 4ms/step - loss: 0.2622 - accuracy: 0.9452 - val_loss: 0.5137 - val_accuracy: 0.9439\n",
      "313/313 [==============================] - 0s 815us/step - loss: 0.5137 - accuracy: 0.9439\n"
     ]
    }
   ],
   "source": [
    "history = model.fit(x_train , y_train,epochs=10,validation_data=(x_test ,y_test),callbacks=[tc])\n",
    "\n",
    "loss,acc = model.evaluate(x_test ,y_test ,verbose=1)\n",
    "\n"
   ]
  },
  {
   "cell_type": "code",
   "execution_count": 30,
   "id": "4bb7c78a",
   "metadata": {},
   "outputs": [
    {
     "name": "stderr",
     "output_type": "stream",
     "text": [
      "WARNING:absl:Found untraced functions such as _update_step_xla while saving (showing 1 of 1). These functions will not be directly callable after loading.\n"
     ]
    },
    {
     "name": "stdout",
     "output_type": "stream",
     "text": [
      "INFO:tensorflow:Assets written to: model1\\assets\n"
     ]
    },
    {
     "name": "stderr",
     "output_type": "stream",
     "text": [
      "INFO:tensorflow:Assets written to: model1\\assets\n"
     ]
    }
   ],
   "source": [
    "model.save('model1',save_format='tf')"
   ]
  },
  {
   "cell_type": "code",
   "execution_count": 38,
   "id": "ed5e4505",
   "metadata": {},
   "outputs": [
    {
     "name": "stdout",
     "output_type": "stream",
     "text": [
      "313/313 [==============================] - 0s 822us/step - loss: 0.5137 - accuracy: 0.9439\n"
     ]
    }
   ],
   "source": [
    "loaded_model = tf.keras.models.load_model('model1')\n",
    "loaded_loss , loaded_acc = loaded_model.evaluate(x_test , y_test , verbose=1)\n",
    "            "
   ]
  },
  {
   "cell_type": "code",
   "execution_count": 42,
   "id": "491be61b",
   "metadata": {},
   "outputs": [],
   "source": [
    "%load_ext tensorboard\n",
    "           "
   ]
  },
  {
   "cell_type": "code",
   "execution_count": 46,
   "id": "d517be0f",
   "metadata": {},
   "outputs": [
    {
     "data": {
      "text/html": [
       "\n",
       "      <iframe id=\"tensorboard-frame-5139886add0bbf6a\" width=\"100%\" height=\"800\" frameborder=\"0\">\n",
       "      </iframe>\n",
       "      <script>\n",
       "        (function() {\n",
       "          const frame = document.getElementById(\"tensorboard-frame-5139886add0bbf6a\");\n",
       "          const url = new URL(\"/\", window.location);\n",
       "          const port = 6006;\n",
       "          if (port) {\n",
       "            url.port = port;\n",
       "          }\n",
       "          frame.src = url;\n",
       "        })();\n",
       "      </script>\n",
       "    "
      ],
      "text/plain": [
       "<IPython.core.display.HTML object>"
      ]
     },
     "metadata": {},
     "output_type": "display_data"
    }
   ],
   "source": [
    "%tensorboard --logdir log1"
   ]
  },
  {
   "cell_type": "code",
   "execution_count": null,
   "id": "d5e72178",
   "metadata": {},
   "outputs": [],
   "source": []
  }
 ],
 "metadata": {
  "kernelspec": {
   "display_name": "Python 3 (ipykernel)",
   "language": "python",
   "name": "python3"
  },
  "language_info": {
   "codemirror_mode": {
    "name": "ipython",
    "version": 3
   },
   "file_extension": ".py",
   "mimetype": "text/x-python",
   "name": "python",
   "nbconvert_exporter": "python",
   "pygments_lexer": "ipython3",
   "version": "3.9.12"
  }
 },
 "nbformat": 4,
 "nbformat_minor": 5
}
