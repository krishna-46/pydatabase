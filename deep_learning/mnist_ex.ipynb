{
 "cells": [
  {
   "cell_type": "markdown",
   "id": "9b7f678c-92c3-4b17-b7d7-debabeb7b7c9",
   "metadata": {},
   "source": [
    "1.The neural network must have the following architecture:\n",
    "\n",
    "* One Flatten() layer. \n",
    "* One Dense layer with 512 neurons using a ReLU as the activation function. \n",
    "* A Dropout layer with the probability of retaining the unit of 20%. \n",
    "* A final Dense layer, that computes the probability scores via the softmax function, for each of the 10 output labels.\n",
    "\n",
    "2.Place the logs of TensorBoard in a timestamped subdirectory to allow easy selection of different training runs and create the appropriate callbacks that ensure that logs are created and stored. Additionally, enable histogram computation for every epoch.\n",
    "\n",
    "3.Compile and train the model using stochastic gradient descent with the objective function sparse_categorical_crossentropy and 10 epochs.\n",
    "\n",
    "4.Start TensorBoard through the command line or within a notebook experience. The two interfaces are generally the same. In notebooks, use the %tensorboard line magic. On the command line, run the same command without \"%\". Show and explain the dashboards.\n",
    "\n",
    "5.Show the losses and the final architecture on TensorBoard."
   ]
  },
  {
   "cell_type": "code",
   "execution_count": 7,
   "id": "1fbb3098-81d6-48fe-ab4a-fd9e75bedd97",
   "metadata": {},
   "outputs": [],
   "source": [
    "import tensorflow as tf\n",
    "from tensorflow.keras.models import Sequential\n",
    "from tensorflow.keras.layers import Dense,Dropout,Flatten"
   ]
  },
  {
   "cell_type": "code",
   "execution_count": 8,
   "id": "d3127e2a-fade-4168-a91a-7b592897a811",
   "metadata": {},
   "outputs": [],
   "source": [
    "mnist = tf.keras.datasets.mnist"
   ]
  },
  {
   "cell_type": "code",
   "execution_count": 9,
   "id": "44ef3968-5f7c-45ae-87b8-19baa3ff6f34",
   "metadata": {},
   "outputs": [],
   "source": [
    "(x_train , y_train),(x_test , y_test)=mnist.load_data()"
   ]
  },
  {
   "cell_type": "code",
   "execution_count": 10,
   "id": "4e3e7746-9d8c-4a9c-bb55-786614c01dea",
   "metadata": {},
   "outputs": [],
   "source": [
    "model = tf.keras.models.Sequential([\n",
    "    Flatten(input_shape=(28,28)),\n",
    "    Dense(512 , activation='relu'),\n",
    "    Dropout(0.2),\n",
    "    Dense(10,activation='softmax')\n",
    "\n",
    "])"
   ]
  },
  {
   "cell_type": "code",
   "execution_count": 11,
   "id": "774cae59-52cb-4891-bd3a-fc0122172c2a",
   "metadata": {},
   "outputs": [],
   "source": [
    "model.compile(loss='sparse_categorical_crossentropy',optimizer='adam',metrics=['accuracy'])"
   ]
  },
  {
   "cell_type": "code",
   "execution_count": 12,
   "id": "6e05f381-8cc0-48da-8f43-df920333ff28",
   "metadata": {},
   "outputs": [
    {
     "name": "stdout",
     "output_type": "stream",
     "text": [
      "Epoch 1/10\n",
      "1875/1875 [==============================] - 7s 3ms/step - loss: 2.8006 - accuracy: 0.8766\n",
      "Epoch 2/10\n",
      "1875/1875 [==============================] - 6s 3ms/step - loss: 0.4342 - accuracy: 0.9047\n",
      "Epoch 3/10\n",
      "1875/1875 [==============================] - 6s 3ms/step - loss: 0.4152 - accuracy: 0.9102\n",
      "Epoch 4/10\n",
      "1875/1875 [==============================] - 6s 3ms/step - loss: 0.3764 - accuracy: 0.9158\n",
      "Epoch 5/10\n",
      "1875/1875 [==============================] - 6s 3ms/step - loss: 0.3746 - accuracy: 0.9200\n",
      "Epoch 6/10\n",
      "1875/1875 [==============================] - 6s 3ms/step - loss: 0.3640 - accuracy: 0.9238\n",
      "Epoch 7/10\n",
      "1875/1875 [==============================] - 6s 3ms/step - loss: 0.3246 - accuracy: 0.9298\n",
      "Epoch 8/10\n",
      "1875/1875 [==============================] - 6s 3ms/step - loss: 0.3300 - accuracy: 0.9313\n",
      "Epoch 9/10\n",
      "1875/1875 [==============================] - 6s 3ms/step - loss: 0.3267 - accuracy: 0.9323\n",
      "Epoch 10/10\n",
      "1875/1875 [==============================] - 6s 3ms/step - loss: 0.3289 - accuracy: 0.9327\n"
     ]
    },
    {
     "data": {
      "text/plain": [
       "<keras.callbacks.History at 0x1fa69261190>"
      ]
     },
     "execution_count": 12,
     "metadata": {},
     "output_type": "execute_result"
    }
   ],
   "source": [
    "model.fit(x_train , y_train , epochs=10)"
   ]
  },
  {
   "cell_type": "code",
   "execution_count": null,
   "id": "16ca470f-6316-49e4-9ceb-9262387f41ce",
   "metadata": {},
   "outputs": [],
   "source": []
  }
 ],
 "metadata": {
  "kernelspec": {
   "display_name": "Python 3 (ipykernel)",
   "language": "python",
   "name": "python3"
  },
  "language_info": {
   "codemirror_mode": {
    "name": "ipython",
    "version": 3
   },
   "file_extension": ".py",
   "mimetype": "text/x-python",
   "name": "python",
   "nbconvert_exporter": "python",
   "pygments_lexer": "ipython3",
   "version": "3.9.12"
  }
 },
 "nbformat": 4,
 "nbformat_minor": 5
}
