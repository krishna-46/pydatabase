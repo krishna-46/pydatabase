{
 "cells": [
  {
   "cell_type": "markdown",
   "id": "0eb8fec8-73f0-4909-b570-c28fb1b38311",
   "metadata": {},
   "source": []
  },
  {
   "cell_type": "code",
   "execution_count": 2,
   "id": "90203c2f-c615-4de1-a717-c57454bc453e",
   "metadata": {},
   "outputs": [],
   "source": [
    "import tensorflow as tf\n"
   ]
  },
  {
   "cell_type": "code",
   "execution_count": 3,
   "id": "f4966200-0b09-4950-9b88-0d99e4bf7588",
   "metadata": {},
   "outputs": [],
   "source": [
    "\n",
    "\n",
    "mnist = tf.keras.datasets.mnist"
   ]
  },
  {
   "cell_type": "code",
   "execution_count": 4,
   "id": "752220fc-c656-4ecf-bbee-c2a3f664c39c",
   "metadata": {},
   "outputs": [],
   "source": [
    "\n",
    "(x_train , y_train) , (x_test , y_test) =mnist.load_data() \n",
    "x_train, x_test = x_train / 255.0, x_test / 255.0\n",
    "     "
   ]
  },
  {
   "cell_type": "code",
   "execution_count": 23,
   "id": "bc2383dc-6af7-4fbe-9be3-9e7767b2fadf",
   "metadata": {},
   "outputs": [],
   "source": [
    "\n",
    "model = tf.keras.models.Sequential([\n",
    "    tf.keras.layers.Flatten(input_shape=(28,28)),\n",
    "    tf.keras.layers.Dense(128 , activation='relu',use_bias=True,kernel_initializer='glorot_uniform'),\n",
    "    tf.keras.layers.Dropout(0.2),\n",
    "    tf.keras.layers.Dense(10,activation='softmax')\n",
    "\n",
    "])"
   ]
  },
  {
   "cell_type": "code",
   "execution_count": 24,
   "id": "0372d615-6646-4559-ad5c-f69bf57e9176",
   "metadata": {},
   "outputs": [],
   "source": [
    "model.compile(optimizer='adam',loss='sparse_categorical_crossentropy',metrics=['accuracy'])\n"
   ]
  },
  {
   "cell_type": "code",
   "execution_count": 25,
   "id": "a79f3dd7-66d5-4af2-9ca8-81cd794dcade",
   "metadata": {},
   "outputs": [
    {
     "name": "stdout",
     "output_type": "stream",
     "text": [
      "Epoch 1/5\n",
      "1875/1875 [==============================] - 2s 880us/step - loss: 0.2911 - accuracy: 0.9147\n",
      "Epoch 2/5\n",
      "1875/1875 [==============================] - 2s 871us/step - loss: 0.1399 - accuracy: 0.9582\n",
      "Epoch 3/5\n",
      "1875/1875 [==============================] - 2s 878us/step - loss: 0.1072 - accuracy: 0.9679\n",
      "Epoch 4/5\n",
      "1875/1875 [==============================] - 2s 884us/step - loss: 0.0870 - accuracy: 0.9739\n",
      "Epoch 5/5\n",
      "1875/1875 [==============================] - 2s 888us/step - loss: 0.0736 - accuracy: 0.9768\n"
     ]
    },
    {
     "data": {
      "text/plain": [
       "<keras.callbacks.History at 0x1bac26463a0>"
      ]
     },
     "execution_count": 25,
     "metadata": {},
     "output_type": "execute_result"
    }
   ],
   "source": [
    "model.fit(x_train , y_train , epochs=5)\n"
   ]
  },
  {
   "cell_type": "code",
   "execution_count": 22,
   "id": "a7cbfa08-6a14-46c9-8681-66b387f86e4c",
   "metadata": {},
   "outputs": [
    {
     "name": "stdout",
     "output_type": "stream",
     "text": [
      "313/313 [==============================] - 0s 655us/step - loss: 0.0785 - accuracy: 0.9767 - mse: 27.3373 - binary_accuracy: 0.0996 - categorical_accuracy: 0.0985\n"
     ]
    },
    {
     "data": {
      "text/plain": [
       "[0.07851582020521164,\n",
       " 0.9767000079154968,\n",
       " 27.33727264404297,\n",
       " 0.09956999868154526,\n",
       " 0.09849999845027924]"
      ]
     },
     "execution_count": 22,
     "metadata": {},
     "output_type": "execute_result"
    }
   ],
   "source": [
    "model.evaluate(x_test,y_test)\n"
   ]
  },
  {
   "cell_type": "code",
   "execution_count": null,
   "id": "374eb631-6b7b-448c-ab65-a980fb2016e0",
   "metadata": {},
   "outputs": [],
   "source": []
  }
 ],
 "metadata": {
  "kernelspec": {
   "display_name": "Python 3 (ipykernel)",
   "language": "python",
   "name": "python3"
  },
  "language_info": {
   "codemirror_mode": {
    "name": "ipython",
    "version": 3
   },
   "file_extension": ".py",
   "mimetype": "text/x-python",
   "name": "python",
   "nbconvert_exporter": "python",
   "pygments_lexer": "ipython3",
   "version": "3.9.12"
  }
 },
 "nbformat": 4,
 "nbformat_minor": 5
}
