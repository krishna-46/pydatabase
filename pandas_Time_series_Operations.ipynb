{
 "cells": [
  {
   "cell_type": "code",
   "execution_count": 2,
   "id": "15a86219",
   "metadata": {},
   "outputs": [
    {
     "name": "stdout",
     "output_type": "stream",
     "text": [
      "DatetimeIndex(['2022-10-01 00:00:00', '2022-10-01 00:01:00',\n",
      "               '2022-10-01 00:02:00', '2022-10-01 00:03:00',\n",
      "               '2022-10-01 00:04:00', '2022-10-01 00:05:00',\n",
      "               '2022-10-01 00:06:00', '2022-10-01 00:07:00',\n",
      "               '2022-10-01 00:08:00', '2022-10-01 00:09:00',\n",
      "               ...\n",
      "               '2022-10-31 23:51:00', '2022-10-31 23:52:00',\n",
      "               '2022-10-31 23:53:00', '2022-10-31 23:54:00',\n",
      "               '2022-10-31 23:55:00', '2022-10-31 23:56:00',\n",
      "               '2022-10-31 23:57:00', '2022-10-31 23:58:00',\n",
      "               '2022-10-31 23:59:00', '2022-11-01 00:00:00'],\n",
      "              dtype='datetime64[ns]', length=44641, freq='T')\n"
     ]
    }
   ],
   "source": [
    "import numpy as np\n",
    "import pandas as pd\n",
    "time=pd.date_range(start='10/1/2022',end='11/1/2022',freq='min')\n",
    "print(time)"
   ]
  },
  {
   "cell_type": "code",
   "execution_count": 6,
   "id": "8b5b363a",
   "metadata": {},
   "outputs": [
    {
     "name": "stdout",
     "output_type": "stream",
     "text": [
      "                 DateTime\n",
      "0     2022-10-01 00:00:00\n",
      "1     2022-10-01 00:01:00\n",
      "2     2022-10-01 00:02:00\n",
      "3     2022-10-01 00:03:00\n",
      "4     2022-10-01 00:04:00\n",
      "...                   ...\n",
      "44636 2022-10-31 23:56:00\n",
      "44637 2022-10-31 23:57:00\n",
      "44638 2022-10-31 23:58:00\n",
      "44639 2022-10-31 23:59:00\n",
      "44640 2022-11-01 00:00:00\n",
      "\n",
      "[44641 rows x 1 columns]\n"
     ]
    }
   ],
   "source": [
    "time=pd.date_range(start='10/1/2022',end='11/1/2022',freq='min')\n",
    "df=pd.DataFrame(time,columns=['DateTime'])\n",
    "print(df)\n"
   ]
  },
  {
   "cell_type": "code",
   "execution_count": 12,
   "id": "6e329731",
   "metadata": {},
   "outputs": [
    {
     "name": "stdout",
     "output_type": "stream",
     "text": [
      "                 DateTime  DATA\n",
      "0     2022-10-01 00:00:00    24\n",
      "1     2022-10-01 00:01:00    71\n",
      "2     2022-10-01 00:02:00    11\n",
      "3     2022-10-01 00:03:00    42\n",
      "4     2022-10-01 00:04:00    93\n",
      "...                   ...   ...\n",
      "44636 2022-10-31 23:56:00     5\n",
      "44637 2022-10-31 23:57:00    42\n",
      "44638 2022-10-31 23:58:00    17\n",
      "44639 2022-10-31 23:59:00    21\n",
      "44640 2022-11-01 00:00:00    59\n",
      "\n",
      "[44641 rows x 2 columns]\n"
     ]
    },
    {
     "data": {
      "text/html": [
       "<div>\n",
       "<style scoped>\n",
       "    .dataframe tbody tr th:only-of-type {\n",
       "        vertical-align: middle;\n",
       "    }\n",
       "\n",
       "    .dataframe tbody tr th {\n",
       "        vertical-align: top;\n",
       "    }\n",
       "\n",
       "    .dataframe thead th {\n",
       "        text-align: right;\n",
       "    }\n",
       "</style>\n",
       "<table border=\"1\" class=\"dataframe\">\n",
       "  <thead>\n",
       "    <tr style=\"text-align: right;\">\n",
       "      <th></th>\n",
       "      <th>DateTime</th>\n",
       "      <th>DATA</th>\n",
       "    </tr>\n",
       "  </thead>\n",
       "  <tbody>\n",
       "    <tr>\n",
       "      <th>0</th>\n",
       "      <td>2022-10-01 00:00:00</td>\n",
       "      <td>24</td>\n",
       "    </tr>\n",
       "    <tr>\n",
       "      <th>1</th>\n",
       "      <td>2022-10-01 00:01:00</td>\n",
       "      <td>71</td>\n",
       "    </tr>\n",
       "    <tr>\n",
       "      <th>2</th>\n",
       "      <td>2022-10-01 00:02:00</td>\n",
       "      <td>11</td>\n",
       "    </tr>\n",
       "    <tr>\n",
       "      <th>3</th>\n",
       "      <td>2022-10-01 00:03:00</td>\n",
       "      <td>42</td>\n",
       "    </tr>\n",
       "    <tr>\n",
       "      <th>4</th>\n",
       "      <td>2022-10-01 00:04:00</td>\n",
       "      <td>93</td>\n",
       "    </tr>\n",
       "  </tbody>\n",
       "</table>\n",
       "</div>"
      ],
      "text/plain": [
       "             DateTime  DATA\n",
       "0 2022-10-01 00:00:00    24\n",
       "1 2022-10-01 00:01:00    71\n",
       "2 2022-10-01 00:02:00    11\n",
       "3 2022-10-01 00:03:00    42\n",
       "4 2022-10-01 00:04:00    93"
      ]
     },
     "execution_count": 12,
     "metadata": {},
     "output_type": "execute_result"
    }
   ],
   "source": [
    "time=pd.date_range(start='10/1/2022',end='11/1/2022',freq='min')\n",
    "df=pd.DataFrame(time,columns=['DateTime'])\n",
    "df['DATA']=np.random.randint(0,100,size=len(time))\n",
    "print(df)\n",
    "df.head()\n",
    "#print(df.head(4))"
   ]
  },
  {
   "cell_type": "code",
   "execution_count": null,
   "id": "605159f3",
   "metadata": {},
   "outputs": [],
   "source": []
  }
 ],
 "metadata": {
  "kernelspec": {
   "display_name": "Python 3 (ipykernel)",
   "language": "python",
   "name": "python3"
  },
  "language_info": {
   "codemirror_mode": {
    "name": "ipython",
    "version": 3
   },
   "file_extension": ".py",
   "mimetype": "text/x-python",
   "name": "python",
   "nbconvert_exporter": "python",
   "pygments_lexer": "ipython3",
   "version": "3.9.12"
  }
 },
 "nbformat": 4,
 "nbformat_minor": 5
}
