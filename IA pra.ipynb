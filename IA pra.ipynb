{
 "cells": [
  {
   "cell_type": "code",
   "execution_count": 1,
   "id": "0e9b4c00-a693-4e3e-a31f-9f047becb598",
   "metadata": {},
   "outputs": [],
   "source": [
    "import numpy as np"
   ]
  },
  {
   "cell_type": "markdown",
   "id": "fbf1ba7c-c9ac-459c-818b-b25c668752ff",
   "metadata": {},
   "source": [
    "1. Represent the above data in a 10x2 array. In each row, the first element should contain day number and second element should contain steps walked."
   ]
  },
  {
   "cell_type": "code",
   "execution_count": 23,
   "id": "7ae38974-3440-4ddd-ad64-f6ef85161cba",
   "metadata": {},
   "outputs": [
    {
     "data": {
      "text/plain": [
       "array([[   1, 6012],\n",
       "       [   2, 7079],\n",
       "       [   3, 6886],\n",
       "       [   4, 7230],\n",
       "       [   5, 4598],\n",
       "       [   6, 5564],\n",
       "       [   7, 6971],\n",
       "       [   8, 7763],\n",
       "       [   9, 8032],\n",
       "       [  10, 9569]])"
      ]
     },
     "execution_count": 23,
     "metadata": {},
     "output_type": "execute_result"
    }
   ],
   "source": [
    "Steps1 = np.array ([[1,6012],[2,7079],[3,6886],[4,7230],[5,4598],[6,5564],[7,6971],[8,7763],[9,8032],[10,9569]])\n",
    "\n",
    "Steps1"
   ]
  },
  {
   "cell_type": "markdown",
   "id": "090afdf0-178b-4324-95b2-1e95b9c62097",
   "metadata": {},
   "source": [
    "2. Lee notices that the tracker’s battery dies every day at 7 pm. Lee discovers that on an average, he walks 2000 steps every day after 7 pm. Perform an appropriate operation on your array to add 2000 steps to all the observations."
   ]
  },
  {
   "cell_type": "code",
   "execution_count": 27,
   "id": "fdbdfe7d-c3df-4847-b167-24d648b99b74",
   "metadata": {},
   "outputs": [
    {
     "data": {
      "text/plain": [
       "array([[    1,  8012],\n",
       "       [    2,  9079],\n",
       "       [    3,  8886],\n",
       "       [    4,  9230],\n",
       "       [    5,  6598],\n",
       "       [    6,  7564],\n",
       "       [    7,  8971],\n",
       "       [    8,  9763],\n",
       "       [    9, 10032],\n",
       "       [   10, 11569]])"
      ]
     },
     "execution_count": 27,
     "metadata": {},
     "output_type": "execute_result"
    }
   ],
   "source": [
    "Steps = np.array ([[1,6012],[2,7079],[3,6886],[4,7230],[5,4598],[6,5564],[7,6971],[8,7763],[9,8032],[10,9569]])\n",
    "\n",
    "Steps= Steps +[0,2000]\n",
    "Steps"
   ]
  },
  {
   "cell_type": "markdown",
   "id": "5e8d5bb9-c832-405d-841f-3965f8747c1c",
   "metadata": {},
   "source": [
    "3. Write a program that returns the steps walked if the steps walked are more than 9000."
   ]
  },
  {
   "cell_type": "code",
   "execution_count": 31,
   "id": "5f889305-0ba8-4605-8589-008d4951be76",
   "metadata": {},
   "outputs": [
    {
     "data": {
      "text/plain": [
       "array([9569])"
      ]
     },
     "execution_count": 31,
     "metadata": {},
     "output_type": "execute_result"
    }
   ],
   "source": [
    "Steps = np.array ([[1,6012],[2,7079],[3,6886],[4,7230],[5,4598],[6,5564],[7,6971],[8,7763],[9,8032],[10,9569]])\n",
    "a=Steps > 9000\n",
    "Steps[a]"
   ]
  },
  {
   "cell_type": "code",
   "execution_count": 33,
   "id": "c577a713-7085-47d4-b63a-31790fcab8f0",
   "metadata": {},
   "outputs": [
    {
     "name": "stdout",
     "output_type": "stream",
     "text": [
      "[[   1 6012]\n",
      " [   2 7079]\n",
      " [   3 6886]\n",
      " [   4 7230]\n",
      " [   5 4598]\n",
      " [   6 5564]\n",
      " [   7 6971]\n",
      " [   8 7763]\n",
      " [   9 8032]\n",
      " [  10 9569]]\n"
     ]
    }
   ],
   "source": [
    "print(np.sort(Steps))"
   ]
  },
  {
   "cell_type": "code",
   "execution_count": null,
   "id": "f432976b-4637-4b4d-b5c1-6d4bc990e142",
   "metadata": {},
   "outputs": [],
   "source": []
  }
 ],
 "metadata": {
  "kernelspec": {
   "display_name": "Python 3 (ipykernel)",
   "language": "python",
   "name": "python3"
  },
  "language_info": {
   "codemirror_mode": {
    "name": "ipython",
    "version": 3
   },
   "file_extension": ".py",
   "mimetype": "text/x-python",
   "name": "python",
   "nbconvert_exporter": "python",
   "pygments_lexer": "ipython3",
   "version": "3.9.12"
  }
 },
 "nbformat": 4,
 "nbformat_minor": 5
}
