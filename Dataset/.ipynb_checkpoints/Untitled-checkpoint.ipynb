{
 "cells": [
  {
   "cell_type": "markdown",
   "id": "3966d7ee-790f-428b-8f7a-43b72f6cef8d",
   "metadata": {},
   "source": [
    "1 . Consider the columns, ‘RM’, ‘DIS’, ‘TAX’, ‘INDUS’ as predictors, and ‘MEDV’ as the target variable"
   ]
  },
  {
   "cell_type": "markdown",
   "id": "1c85ee0f-0923-4ee8-8aac-d7bab675d3ce",
   "metadata": {},
   "source": [
    "2. Calculate the Variance Inflation Factor for each of the selected predictors. Based on the VIF factor, finalize the list of predictors."
   ]
  },
  {
   "cell_type": "markdown",
   "id": "52eeacc7-535d-4204-91ef-0bdc7098fb09",
   "metadata": {},
   "source": [
    "3.For every predictor identified, visualize its association with the target column using scatter plot."
   ]
  },
  {
   "cell_type": "markdown",
   "id": "977008ab-eb57-4c5a-95ce-936bc3412041",
   "metadata": {},
   "source": [
    "4.    Split the data into train and test datasets, in the ratio of 67:33."
   ]
  },
  {
   "cell_type": "markdown",
   "id": "03fd4abd-2c58-4cbe-921f-fe6c3975b01a",
   "metadata": {},
   "source": [
    "5.    Build a Linear Regression model, to predict the target variable using the selected predictors."
   ]
  },
  {
   "cell_type": "markdown",
   "id": "ab7527f3-8243-4293-b511-fcff1025961a",
   "metadata": {},
   "source": [
    "6.    Observe the coefficients and intercept values for the model. "
   ]
  },
  {
   "cell_type": "markdown",
   "id": "aceaf93a-a479-4eb6-94ab-57ed362395e0",
   "metadata": {},
   "source": [
    "7.Evaluate the model using mean squared error values, R-squared values, and adjusted R-Squared values, on the train and the test data."
   ]
  },
  {
   "cell_type": "code",
   "execution_count": 8,
   "id": "3c65b6fa-6535-4f73-af47-21a5b50af5f4",
   "metadata": {},
   "outputs": [],
   "source": [
    "import pandas as pd\n",
    "import numpy as np\n",
    "import matplotlib.pyplot as plt\n",
    "import seaborn as sns\n",
    "from sklearn.model_selection import train_test_split\n",
    "from sklearn.linear_model import LinearRegression\n",
    "from sklearn.metrics import r2_score\n",
    "from sklearn.metrics import mean_absolute_error"
   ]
  },
  {
   "cell_type": "code",
   "execution_count": null,
   "id": "90278392-b708-412d-91ad-fdd46979263d",
   "metadata": {},
   "outputs": [],
   "source": [
    "df = pd.read_csv('dat')"
   ]
  }
 ],
 "metadata": {
  "kernelspec": {
   "display_name": "Python 3 (ipykernel)",
   "language": "python",
   "name": "python3"
  },
  "language_info": {
   "codemirror_mode": {
    "name": "ipython",
    "version": 3
   },
   "file_extension": ".py",
   "mimetype": "text/x-python",
   "name": "python",
   "nbconvert_exporter": "python",
   "pygments_lexer": "ipython3",
   "version": "3.9.12"
  }
 },
 "nbformat": 4,
 "nbformat_minor": 5
}
