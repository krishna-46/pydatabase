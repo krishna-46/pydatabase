{
 "cells": [
  {
   "cell_type": "markdown",
   "id": "3966d7ee-790f-428b-8f7a-43b72f6cef8d",
   "metadata": {},
   "source": [
    "1 . Consider the columns, ‘RM’, ‘DIS’, ‘TAX’, ‘INDUS’ as predictors, and ‘MEDV’ as the target variable"
   ]
  },
  {
   "cell_type": "markdown",
   "id": "1c85ee0f-0923-4ee8-8aac-d7bab675d3ce",
   "metadata": {},
   "source": [
    "2. Calculate the Variance Inflation Factor for each of the selected predictors. Based on the VIF factor, finalize the list of predictors."
   ]
  },
  {
   "cell_type": "markdown",
   "id": "52eeacc7-535d-4204-91ef-0bdc7098fb09",
   "metadata": {},
   "source": [
    "3.For every predictor identified, visualize its association with the target column using scatter plot."
   ]
  },
  {
   "cell_type": "markdown",
   "id": "977008ab-eb57-4c5a-95ce-936bc3412041",
   "metadata": {},
   "source": [
    "4.    Split the data into train and test datasets, in the ratio of 67:33."
   ]
  },
  {
   "cell_type": "markdown",
   "id": "03fd4abd-2c58-4cbe-921f-fe6c3975b01a",
   "metadata": {},
   "source": [
    "5.    Build a Linear Regression model, to predict the target variable using the selected predictors."
   ]
  },
  {
   "cell_type": "markdown",
   "id": "ab7527f3-8243-4293-b511-fcff1025961a",
   "metadata": {},
   "source": [
    "6.    Observe the coefficients and intercept values for the model. "
   ]
  },
  {
   "cell_type": "markdown",
   "id": "aceaf93a-a479-4eb6-94ab-57ed362395e0",
   "metadata": {},
   "source": [
    "7.Evaluate the model using mean squared error values, R-squared values, and adjusted R-Squared values, on the train and the test data."
   ]
  },
  {
   "cell_type": "code",
   "execution_count": 1,
   "id": "3c65b6fa-6535-4f73-af47-21a5b50af5f4",
   "metadata": {},
   "outputs": [],
   "source": [
    "import pandas as pd\n",
    "import numpy as np\n",
    "import matplotlib.pyplot as plt\n",
    "import seaborn as sns\n",
    "from sklearn.model_selection import train_test_split\n",
    "from sklearn.linear_model import LinearRegression\n",
    "from sklearn.metrics import r2_score\n",
    "from sklearn.metrics import mean_absolute_error"
   ]
  },
  {
   "cell_type": "code",
   "execution_count": 2,
   "id": "8f4c1903-c645-4b5b-9af4-6ba2cf9c5d02",
   "metadata": {},
   "outputs": [
    {
     "ename": "NameError",
     "evalue": "name 'df' is not defined",
     "output_type": "error",
     "traceback": [
      "\u001b[1;31m---------------------------------------------------------------------------\u001b[0m",
      "\u001b[1;31mNameError\u001b[0m                                 Traceback (most recent call last)",
      "Input \u001b[1;32mIn [2]\u001b[0m, in \u001b[0;36m<cell line: 1>\u001b[1;34m()\u001b[0m\n\u001b[1;32m----> 1\u001b[0m x \u001b[38;5;241m=\u001b[39m \u001b[43mdf\u001b[49m\u001b[38;5;241m.\u001b[39miloc[:,\u001b[38;5;241m0\u001b[39m:\u001b[38;5;241m4\u001b[39m]\n\u001b[0;32m      2\u001b[0m x\u001b[38;5;241m.\u001b[39mhead()\n",
      "\u001b[1;31mNameError\u001b[0m: name 'df' is not defined"
     ]
    }
   ],
   "source": [
    "x = df.iloc[:,0:4]\n",
    "x.head()"
   ]
  },
  {
   "cell_type": "code",
   "execution_count": null,
   "id": "38dc1678-4c39-432c-a221-f444a1234407",
   "metadata": {},
   "outputs": [],
   "source": [
    "y = df.iloc[:,-1]\n",
    "y.head()"
   ]
  },
  {
   "cell_type": "code",
   "execution_count": null,
   "id": "44b93933-7246-4043-9eec-4a05c4d4bb03",
   "metadata": {},
   "outputs": [],
   "source": [
    "plt.scatter(df['RM' ] , df[ 'MEDV'])"
   ]
  },
  {
   "cell_type": "code",
   "execution_count": null,
   "id": "a6bb0030-f434-4bbb-94bc-c7c3a3729f7a",
   "metadata": {},
   "outputs": [],
   "source": [
    "plt.scatter(df['DIS' ] , df[ 'MEDV'])"
   ]
  },
  {
   "cell_type": "code",
   "execution_count": null,
   "id": "034b3a42-b85f-4268-877b-9b12652a8586",
   "metadata": {},
   "outputs": [],
   "source": [
    "plt.scatter(df['TAX' ] , df[ 'MEDV'])"
   ]
  },
  {
   "cell_type": "code",
   "execution_count": null,
   "id": "0faa5989-5633-4905-9501-071513162f51",
   "metadata": {},
   "outputs": [],
   "source": [
    "plt.scatter(df['INDUS' ] , df[ 'MEDV'])"
   ]
  },
  {
   "cell_type": "code",
   "execution_count": null,
   "id": "54c774f6-e36f-4264-8041-c22d34a09805",
   "metadata": {},
   "outputs": [],
   "source": [
    "x=df[['RM','DIS','TAX','INDUS',]]\n",
    "x"
   ]
  },
  {
   "cell_type": "code",
   "execution_count": null,
   "id": "3b3b2bc9-26e4-4e70-89e7-1a59e0b643da",
   "metadata": {},
   "outputs": [],
   "source": [
    "y=df[['MEDV']]\n",
    "y"
   ]
  },
  {
   "cell_type": "code",
   "execution_count": null,
   "id": "793cabc4-75dc-42cf-a071-688b2c1d2540",
   "metadata": {},
   "outputs": [],
   "source": [
    "\n",
    "np.corrcoef(df[\"RM\"],df[\"MEDV\"])"
   ]
  },
  {
   "cell_type": "code",
   "execution_count": null,
   "id": "2e8e1bbb-da3a-420a-9779-81259bdcd958",
   "metadata": {},
   "outputs": [],
   "source": [
    "\n",
    "np.corrcoef(df[\"DIS\"],df[\"MEDV\"])"
   ]
  },
  {
   "cell_type": "code",
   "execution_count": null,
   "id": "38126661-c5f1-4dd7-8e03-1c4b26b781a5",
   "metadata": {},
   "outputs": [],
   "source": [
    "\n",
    "np.corrcoef(df[\"TAX\"],df[\"MEDV\"])"
   ]
  },
  {
   "cell_type": "code",
   "execution_count": null,
   "id": "4ebc67f8-1367-4627-903d-c4cc5803ec79",
   "metadata": {},
   "outputs": [],
   "source": [
    "\n",
    "\n",
    "np.corrcoef(df[\"INDUS\"],df[\"MEDV\"])"
   ]
  },
  {
   "cell_type": "code",
   "execution_count": null,
   "id": "3a66cd8f-7295-42a4-bdd4-b7de9d35df60",
   "metadata": {},
   "outputs": [],
   "source": [
    "from statsmodels.stats.outliers_influence import variance_inflation_factor\n",
    "#calculating the VIF for each attributes\n",
    "vif = pd.Series([variance_inflation_factor(x.values,idx) \n",
    "           for idx in range(x.shape[1])],\n",
    "          index=x.columns)\n",
    "print(vif)"
   ]
  },
  {
   "cell_type": "code",
   "execution_count": null,
   "id": "d74c21cc-cff3-4065-94ff-e6cf6ac4e7b0",
   "metadata": {},
   "outputs": [],
   "source": [
    "\n"
   ]
  },
  {
   "cell_type": "code",
   "execution_count": null,
   "id": "9643949d-1cac-436b-924f-186f31a2c8be",
   "metadata": {},
   "outputs": [],
   "source": [
    "x_train,x_test,y_train,y_test=train_test_split(x,y,train_size=0.67)"
   ]
  },
  {
   "cell_type": "code",
   "execution_count": null,
   "id": "dcccc680-70af-4ce7-84a5-31dbe9ca1181",
   "metadata": {},
   "outputs": [],
   "source": [
    "x_train.shape"
   ]
  },
  {
   "cell_type": "code",
   "execution_count": null,
   "id": "a16c4605-9749-4771-a371-a7058f0ae3ab",
   "metadata": {},
   "outputs": [],
   "source": [
    "x_test.shape"
   ]
  },
  {
   "cell_type": "code",
   "execution_count": null,
   "id": "969eb590-c7ad-4e9a-a493-ab19e8b4deb8",
   "metadata": {},
   "outputs": [],
   "source": [
    "y_train.shape"
   ]
  },
  {
   "cell_type": "code",
   "execution_count": null,
   "id": "e5ab772a-a81f-4a8e-972e-b33baf5d5d7d",
   "metadata": {},
   "outputs": [],
   "source": [
    "y_test.shape"
   ]
  },
  {
   "cell_type": "code",
   "execution_count": null,
   "id": "4d684acc-8cf2-4ad9-8d60-1ab1c084a6aa",
   "metadata": {},
   "outputs": [],
   "source": [
    "lr=LinearRegression()"
   ]
  },
  {
   "cell_type": "code",
   "execution_count": null,
   "id": "166caeed-adf0-4b39-abf6-10bedf57d700",
   "metadata": {},
   "outputs": [],
   "source": [
    "lr.fit(x_train,y_train)\n"
   ]
  },
  {
   "cell_type": "code",
   "execution_count": null,
   "id": "93bb04c5-6294-40c6-abed-e8909ec9976a",
   "metadata": {},
   "outputs": [],
   "source": [
    "a=lr.predict(x_test)\n"
   ]
  },
  {
   "cell_type": "code",
   "execution_count": null,
   "id": "48991f9a-053f-4e34-9a4a-dc4e4c899d27",
   "metadata": {},
   "outputs": [],
   "source": [
    "lr.coef_\n"
   ]
  },
  {
   "cell_type": "code",
   "execution_count": null,
   "id": "e63b5d76-d461-40e1-bf20-08dbbddfe6a9",
   "metadata": {},
   "outputs": [],
   "source": [
    "lr.intercept_\n"
   ]
  },
  {
   "cell_type": "code",
   "execution_count": null,
   "id": "10e92da1-d7b5-4ef3-80b3-8baab4a1a12e",
   "metadata": {},
   "outputs": [],
   "source": [
    "from sklearn.metrics import mean_squared_error\n",
    "lrr_mse=mean_squared_error(y_test,a)\n",
    "lrr_mse"
   ]
  },
  {
   "cell_type": "code",
   "execution_count": null,
   "id": "6ec424ec-7823-497c-8a8d-f61fb131c398",
   "metadata": {},
   "outputs": [],
   "source": [
    "\n",
    "\n",
    "lrr_rmse=np.sqrt(lrr_mse)\n",
    "lrr_rmse"
   ]
  },
  {
   "cell_type": "code",
   "execution_count": null,
   "id": "5c5bb8d1-034e-4cbc-bb7d-ceab8fa3150e",
   "metadata": {},
   "outputs": [],
   "source": []
  }
 ],
 "metadata": {
  "kernelspec": {
   "display_name": "Python 3 (ipykernel)",
   "language": "python",
   "name": "python3"
  },
  "language_info": {
   "codemirror_mode": {
    "name": "ipython",
    "version": 3
   },
   "file_extension": ".py",
   "mimetype": "text/x-python",
   "name": "python",
   "nbconvert_exporter": "python",
   "pygments_lexer": "ipython3",
   "version": "3.9.12"
  }
 },
 "nbformat": 4,
 "nbformat_minor": 5
}
