{
 "cells": [
  {
   "cell_type": "code",
   "execution_count": 2,
   "id": "c015a7bb-c38a-4994-a93a-b8f501c30f59",
   "metadata": {},
   "outputs": [],
   "source": [
    "import numpy as np\n",
    "import pandas as pd\n",
    "import matplotlib.pyplot as plt"
   ]
  },
  {
   "cell_type": "code",
   "execution_count": 15,
   "id": "fbcbbc7c-3c6c-4acd-b7b2-f131c83be74b",
   "metadata": {},
   "outputs": [
    {
     "name": "stdout",
     "output_type": "stream",
     "text": [
      "    Hours  Marks\n",
      "1       5   20.2\n",
      "2       4   30.0\n",
      "3       3   40.0\n",
      "4       4   50.0\n",
      "5       5   60.0\n",
      "6       6   70.0\n",
      "7       7   80.0\n",
      "8       8   90.0\n",
      "9       9  100.0\n",
      "10     10    NaN\n"
     ]
    }
   ],
   "source": [
    "i = pd.Index([1,2,3,4,5,6,7,8,9,10])\n",
    "s1 = pd .Series([1,5,4,3,4,5,6,7,8,9,10])\n",
    "s2 = pd . Series([10,20.2,30,40,50,60,70,80,90,100])\n",
    "df = pd.DataFrame({'Hours':s1,'Marks':s2},index=i)\n",
    "print(df)\n"
   ]
  },
  {
   "cell_type": "code",
   "execution_count": 16,
   "id": "4b6d459e-f75e-4506-8afa-ad6626c741be",
   "metadata": {},
   "outputs": [
    {
     "name": "stdout",
     "output_type": "stream",
     "text": [
      "    Hours  Score\n",
      "1       2   20.0\n",
      "2       4   30.0\n",
      "3       3   40.0\n",
      "4       4   50.0\n",
      "5       5   60.0\n",
      "6       6   70.0\n",
      "7       7   80.0\n",
      "8       8   90.0\n",
      "9       9  100.0\n",
      "10     10    NaN\n"
     ]
    }
   ],
   "source": [
    "i = pd.Index([1,2,3,4,5,6,7,8,9,10])\n",
    "s1 = pd .Series([1,2,4,3,4,5,6,7,8,9,10])\n",
    "s2 = pd . Series([10,20,30,40,50,60,70,80,90,100])\n",
    "df = pd.DataFrame({'Hours':s1,'Score':s2},index=i)\n",
    "print(df)"
   ]
  },
  {
   "cell_type": "code",
   "execution_count": 13,
   "id": "4c9ddaaa-6c49-48a1-8c8a-5486cc2adaaa",
   "metadata": {},
   "outputs": [
    {
     "data": {
      "image/png": "[encoded data removed]",
      "text/plain": [
       "<Figure size 432x288 with 1 Axes>"
      ]
     },
     "metadata": {
      "needs_background": "light"
     },
     "output_type": "display_data"
    }
   ],
   "source": [
    "plt.scatter(df['Hours'],df['Score'])\n",
    "plt.show()"
   ]
  },
  {
   "cell_type": "code",
   "execution_count": null,
   "id": "019503c3-f541-4769-b97e-608aa4d67cd3",
   "metadata": {},
   "outputs": [],
   "source": []
  }
 ],
 "metadata": {
  "kernelspec": {
   "display_name": "Python 3 (ipykernel)",
   "language": "python",
   "name": "python3"
  },
  "language_info": {
   "codemirror_mode": {
    "name": "ipython",
    "version": 3
   },
   "file_extension": ".py",
   "mimetype": "text/x-python",
   "name": "python",
   "nbconvert_exporter": "python",
   "pygments_lexer": "ipython3",
   "version": "3.9.12"
  }
 },
 "nbformat": 4,
 "nbformat_minor": 5
}
