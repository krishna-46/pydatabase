{
 "cells": [
  {
   "cell_type": "markdown",
   "id": "73213d06-9ad9-4593-8430-33c655c39640",
   "metadata": {},
   "source": [
    "After analyzing the univariate data in exercise - 4. We find the relationship between different features. Perform the following tasks.\n",
    " (Note: All the points must be show in the same plot)"
   ]
  },
  {
   "cell_type": "markdown",
   "id": "c56f00f5-00b9-411b-be17-863c54893131",
   "metadata": {},
   "source": [
    "1. Using pandas plotting method, plot a line chart with x-axis as year and y-axis as temperature.\n"
   ]
  },
  {
   "cell_type": "code",
   "execution_count": null,
   "id": "cfb3711f-7014-4913-9839-a46489d32dde",
   "metadata": {},
   "outputs": [],
   "source": []
  },
  {
   "cell_type": "markdown",
   "id": "81b27a1f-57e8-4008-a1ea-71f9e1cffa3e",
   "metadata": {},
   "source": [
    "2. From the above plot determine the top 5 years where the temperature has been the highest.\n"
   ]
  },
  {
   "cell_type": "code",
   "execution_count": null,
   "id": "79f1cd97-e499-49e4-9557-a230282f2a2f",
   "metadata": {},
   "outputs": [],
   "source": []
  },
  {
   "cell_type": "markdown",
   "id": "af812223-607c-4215-b376-ada48926cd66",
   "metadata": {},
   "source": [
    "3. Plot a scatter plot with matplotlib with x-axis as time and y-axis as temperature. The plot must show:\n",
    "           o red circles for the temperature greater than 52\n",
    "           o green circles for temperature less than equal to 52 and greater than 49\n",
    "           o blue circles for temperature less than equal to 49\n",
    "           o Also plot a legend to mention each color plot"
   ]
  },
  {
   "cell_type": "code",
   "execution_count": null,
   "id": "5390b61c-1b7f-407c-b3ba-7b94127d4019",
   "metadata": {},
   "outputs": [],
   "source": []
  }
 ],
 "metadata": {
  "kernelspec": {
   "display_name": "Python 3 (ipykernel)",
   "language": "python",
   "name": "python3"
  },
  "language_info": {
   "codemirror_mode": {
    "name": "ipython",
    "version": 3
   },
   "file_extension": ".py",
   "mimetype": "text/x-python",
   "name": "python",
   "nbconvert_exporter": "python",
   "pygments_lexer": "ipython3",
   "version": "3.9.13"
  }
 },
 "nbformat": 4,
 "nbformat_minor": 5
}
