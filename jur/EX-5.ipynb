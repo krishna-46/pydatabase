{
 "cells": [
  {
   "cell_type": "markdown",
   "id": "73213d06-9ad9-4593-8430-33c655c39640",
   "metadata": {},
   "source": [
    "After analyzing the univariate data in exercise - 4. We find the relationship between different features. Perform the following tasks.\n",
    " (Note: All the points must be show in the same plot)"
   ]
  },
  {
   "cell_type": "markdown",
   "id": "c56f00f5-00b9-411b-be17-863c54893131",
   "metadata": {},
   "source": [
    "1. Using pandas plotting method, plot a line chart with x-axis as year and y-axis as temperature.\n"
   ]
  },
  {
   "cell_type": "code",
   "execution_count": 1,
   "id": "cfb3711f-7014-4913-9839-a46489d32dde",
   "metadata": {},
   "outputs": [],
   "source": [
    "import pandas as pd\n",
    "import matplotlib.pyplot as plt"
   ]
  },
  {
   "cell_type": "code",
   "execution_count": 2,
   "id": "c4822d34-fe7d-430e-8c6f-b39e3813d2f4",
   "metadata": {},
   "outputs": [
    {
     "data": {
      "text/html": [
       "<div>\n",
       "<style scoped>\n",
       "    .dataframe tbody tr th:only-of-type {\n",
       "        vertical-align: middle;\n",
       "    }\n",
       "\n",
       "    .dataframe tbody tr th {\n",
       "        vertical-align: top;\n",
       "    }\n",
       "\n",
       "    .dataframe thead th {\n",
       "        text-align: right;\n",
       "    }\n",
       "</style>\n",
       "<table border=\"1\" class=\"dataframe\">\n",
       "  <thead>\n",
       "    <tr style=\"text-align: right;\">\n",
       "      <th></th>\n",
       "      <th>Unnamed: 0</th>\n",
       "      <th>time</th>\n",
       "      <th>nhtemp</th>\n",
       "    </tr>\n",
       "  </thead>\n",
       "  <tbody>\n",
       "    <tr>\n",
       "      <th>0</th>\n",
       "      <td>1</td>\n",
       "      <td>1912</td>\n",
       "      <td>49.9</td>\n",
       "    </tr>\n",
       "    <tr>\n",
       "      <th>1</th>\n",
       "      <td>2</td>\n",
       "      <td>1913</td>\n",
       "      <td>52.3</td>\n",
       "    </tr>\n",
       "    <tr>\n",
       "      <th>2</th>\n",
       "      <td>3</td>\n",
       "      <td>1914</td>\n",
       "      <td>49.4</td>\n",
       "    </tr>\n",
       "    <tr>\n",
       "      <th>3</th>\n",
       "      <td>4</td>\n",
       "      <td>1915</td>\n",
       "      <td>51.1</td>\n",
       "    </tr>\n",
       "    <tr>\n",
       "      <th>4</th>\n",
       "      <td>5</td>\n",
       "      <td>1916</td>\n",
       "      <td>49.4</td>\n",
       "    </tr>\n",
       "  </tbody>\n",
       "</table>\n",
       "</div>"
      ],
      "text/plain": [
       "   Unnamed: 0  time  nhtemp\n",
       "0           1  1912    49.9\n",
       "1           2  1913    52.3\n",
       "2           3  1914    49.4\n",
       "3           4  1915    51.1\n",
       "4           5  1916    49.4"
      ]
     },
     "execution_count": 2,
     "metadata": {},
     "output_type": "execute_result"
    }
   ],
   "source": [
    "df = pd.read_csv('Dataset/nhtemp.csv')\n",
    "df.head()"
   ]
  },
  {
   "cell_type": "code",
   "execution_count": 5,
   "id": "6a421c80-464b-4e98-85c0-104be07564a8",
   "metadata": {},
   "outputs": [
    {
     "data": {
      "text/plain": [
       "Text(0, 0.5, 'temperature')"
      ]
     },
     "execution_count": 5,
     "metadata": {},
     "output_type": "execute_result"
    },
    {
     "data": {
      "image/png": "[encoded data removed]",
      "text/plain": [
       "<Figure size 432x288 with 1 Axes>"
      ]
     },
     "metadata": {
      "needs_background": "light"
     },
     "output_type": "display_data"
    }
   ],
   "source": [
    "x =df['time']\n",
    "y= df['nhtemp']\n",
    "\n",
    "plt.plot(x,y)\n",
    "plt.xlabel('year')\n",
    "plt.ylabel('temperature')"
   ]
  },
  {
   "cell_type": "code",
   "execution_count": null,
   "id": "9465ddfd-96f1-4abb-b4e9-28c8ddb1ff0e",
   "metadata": {},
   "outputs": [],
   "source": []
  },
  {
   "cell_type": "markdown",
   "id": "81b27a1f-57e8-4008-a1ea-71f9e1cffa3e",
   "metadata": {},
   "source": [
    "2. From the above plot determine the top 5 years where the temperature has been the highest.\n"
   ]
  },
  {
   "cell_type": "code",
   "execution_count": null,
   "id": "79f1cd97-e499-49e4-9557-a230282f2a2f",
   "metadata": {},
   "outputs": [],
   "source": []
  },
  {
   "cell_type": "markdown",
   "id": "af812223-607c-4215-b376-ada48926cd66",
   "metadata": {},
   "source": [
    "3. Plot a scatter plot with matplotlib with x-axis as time and y-axis as temperature. The plot must show:\n",
    "           o red circles for the temperature greater than 52\n",
    "           o green circles for temperature less than equal to 52 and greater than 49\n",
    "           o blue circles for temperature less than equal to 49\n",
    "           o Also plot a legend to mention each color plot"
   ]
  },
  {
   "cell_type": "code",
   "execution_count": null,
   "id": "5390b61c-1b7f-407c-b3ba-7b94127d4019",
   "metadata": {},
   "outputs": [],
   "source": []
  }
 ],
 "metadata": {
  "kernelspec": {
   "display_name": "Python 3 (ipykernel)",
   "language": "python",
   "name": "python3"
  },
  "language_info": {
   "codemirror_mode": {
    "name": "ipython",
    "version": 3
   },
   "file_extension": ".py",
   "mimetype": "text/x-python",
   "name": "python",
   "nbconvert_exporter": "python",
   "pygments_lexer": "ipython3",
   "version": "3.9.12"
  }
 },
 "nbformat": 4,
 "nbformat_minor": 5
}
