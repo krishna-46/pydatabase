{
 "cells": [
  {
   "cell_type": "markdown",
   "id": "152195f0-ae19-4d13-8fc3-8a986f1c5b04",
   "metadata": {},
   "source": [
    "With the below data provided. Perform the following operations. Download the dataset here.\n",
    "(Data set in csv format can be downloaded from Data and Code used in the course section and use nhtemp.csv)"
   ]
  },
  {
   "cell_type": "code",
   "execution_count": 1,
   "id": "3aa3f882-1794-404f-a73a-b851d81259af",
   "metadata": {},
   "outputs": [],
   "source": [
    "import pandas as pd"
   ]
  },
  {
   "cell_type": "markdown",
   "id": "aca0ee26-a942-4ffd-ba14-ed8712217e21",
   "metadata": {},
   "source": [
    "1. Import the dataset into temp_df.\n"
   ]
  },
  {
   "cell_type": "code",
   "execution_count": 2,
   "id": "e59eccd7-9c9b-4628-a282-79a19eeabe2b",
   "metadata": {},
   "outputs": [
    {
     "data": {
      "text/html": [
       "<div>\n",
       "<style scoped>\n",
       "    .dataframe tbody tr th:only-of-type {\n",
       "        vertical-align: middle;\n",
       "    }\n",
       "\n",
       "    .dataframe tbody tr th {\n",
       "        vertical-align: top;\n",
       "    }\n",
       "\n",
       "    .dataframe thead th {\n",
       "        text-align: right;\n",
       "    }\n",
       "</style>\n",
       "<table border=\"1\" class=\"dataframe\">\n",
       "  <thead>\n",
       "    <tr style=\"text-align: right;\">\n",
       "      <th></th>\n",
       "      <th>Unnamed: 0</th>\n",
       "      <th>time</th>\n",
       "      <th>nhtemp</th>\n",
       "    </tr>\n",
       "  </thead>\n",
       "  <tbody>\n",
       "    <tr>\n",
       "      <th>0</th>\n",
       "      <td>1</td>\n",
       "      <td>1912</td>\n",
       "      <td>49.9</td>\n",
       "    </tr>\n",
       "    <tr>\n",
       "      <th>1</th>\n",
       "      <td>2</td>\n",
       "      <td>1913</td>\n",
       "      <td>52.3</td>\n",
       "    </tr>\n",
       "    <tr>\n",
       "      <th>2</th>\n",
       "      <td>3</td>\n",
       "      <td>1914</td>\n",
       "      <td>49.4</td>\n",
       "    </tr>\n",
       "    <tr>\n",
       "      <th>3</th>\n",
       "      <td>4</td>\n",
       "      <td>1915</td>\n",
       "      <td>51.1</td>\n",
       "    </tr>\n",
       "    <tr>\n",
       "      <th>4</th>\n",
       "      <td>5</td>\n",
       "      <td>1916</td>\n",
       "      <td>49.4</td>\n",
       "    </tr>\n",
       "  </tbody>\n",
       "</table>\n",
       "</div>"
      ],
      "text/plain": [
       "   Unnamed: 0  time  nhtemp\n",
       "0           1  1912    49.9\n",
       "1           2  1913    52.3\n",
       "2           3  1914    49.4\n",
       "3           4  1915    51.1\n",
       "4           5  1916    49.4"
      ]
     },
     "execution_count": 2,
     "metadata": {},
     "output_type": "execute_result"
    }
   ],
   "source": [
    "temp_df = pd.read_csv('Dataset/nhtemp.csv')\n",
    "temp_df.head()"
   ]
  },
  {
   "cell_type": "markdown",
   "id": "86f87a47-3996-49db-b971-381d3bdff492",
   "metadata": {},
   "source": [
    "2. Drop the unnamed column.\n"
   ]
  },
  {
   "cell_type": "code",
   "execution_count": 3,
   "id": "7711ddc9-c6de-45ac-b2c8-9faaed06c7cb",
   "metadata": {},
   "outputs": [
    {
     "data": {
      "text/html": [
       "<div>\n",
       "<style scoped>\n",
       "    .dataframe tbody tr th:only-of-type {\n",
       "        vertical-align: middle;\n",
       "    }\n",
       "\n",
       "    .dataframe tbody tr th {\n",
       "        vertical-align: top;\n",
       "    }\n",
       "\n",
       "    .dataframe thead th {\n",
       "        text-align: right;\n",
       "    }\n",
       "</style>\n",
       "<table border=\"1\" class=\"dataframe\">\n",
       "  <thead>\n",
       "    <tr style=\"text-align: right;\">\n",
       "      <th></th>\n",
       "      <th>time</th>\n",
       "      <th>nhtemp</th>\n",
       "    </tr>\n",
       "  </thead>\n",
       "  <tbody>\n",
       "    <tr>\n",
       "      <th>0</th>\n",
       "      <td>1912</td>\n",
       "      <td>49.9</td>\n",
       "    </tr>\n",
       "    <tr>\n",
       "      <th>1</th>\n",
       "      <td>1913</td>\n",
       "      <td>52.3</td>\n",
       "    </tr>\n",
       "    <tr>\n",
       "      <th>2</th>\n",
       "      <td>1914</td>\n",
       "      <td>49.4</td>\n",
       "    </tr>\n",
       "    <tr>\n",
       "      <th>3</th>\n",
       "      <td>1915</td>\n",
       "      <td>51.1</td>\n",
       "    </tr>\n",
       "    <tr>\n",
       "      <th>4</th>\n",
       "      <td>1916</td>\n",
       "      <td>49.4</td>\n",
       "    </tr>\n",
       "  </tbody>\n",
       "</table>\n",
       "</div>"
      ],
      "text/plain": [
       "   time  nhtemp\n",
       "0  1912    49.9\n",
       "1  1913    52.3\n",
       "2  1914    49.4\n",
       "3  1915    51.1\n",
       "4  1916    49.4"
      ]
     },
     "execution_count": 3,
     "metadata": {},
     "output_type": "execute_result"
    }
   ],
   "source": [
    "temp_df.drop(columns=['Unnamed: 0'],inplace=True)\n",
    "#temp_df.drop(['Unnamed: 0'],axis=1,inplace=True)\n",
    "temp_df.head()"
   ]
  },
  {
   "cell_type": "markdown",
   "id": "34f4f5a8-79f6-4094-8927-7dbf61d8d401",
   "metadata": {},
   "source": [
    "3. Plot histogram of the temperature column and determine the range between which the frequency is highest.\n"
   ]
  },
  {
   "cell_type": "code",
   "execution_count": 4,
   "id": "2ba02ddd-fe7f-48d2-bfa2-3f6068019380",
   "metadata": {},
   "outputs": [],
   "source": [
    "import matplotlib.pyplot as plt"
   ]
  },
  {
   "cell_type": "code",
   "execution_count": 5,
   "id": "05dfbee9-3074-483a-8d88-340dca2a3e67",
   "metadata": {},
   "outputs": [
    {
     "data": {
      "text/plain": [
       "(array([ 2.,  1.,  8.,  4., 15., 18.,  4.,  6.,  0.,  2.]),\n",
       " array([47.9 , 48.57, 49.24, 49.91, 50.58, 51.25, 51.92, 52.59, 53.26,\n",
       "        53.93, 54.6 ]),\n",
       " <BarContainer object of 10 artists>)"
      ]
     },
     "execution_count": 5,
     "metadata": {},
     "output_type": "execute_result"
    },
    {
     "data": {
      "image/png": "[encoded data removed]",
      "text/plain": [
       "<Figure size 432x288 with 1 Axes>"
      ]
     },
     "metadata": {
      "needs_background": "light"
     },
     "output_type": "display_data"
    }
   ],
   "source": [
    "plt.hist(temp_df['nhtemp'])"
   ]
  },
  {
   "cell_type": "markdown",
   "id": "9edbfdb1-0e7d-45ce-b7c1-27d23e8d38e8",
   "metadata": {},
   "source": [
    "4. Are there any outliers? If so how many?\n"
   ]
  },
  {
   "cell_type": "code",
   "execution_count": 6,
   "id": "b08ebea9-39cb-49c4-98b6-7dbd9cfe6721",
   "metadata": {},
   "outputs": [
    {
     "data": {
      "image/png": "[encoded data removed]",
      "text/plain": [
       "<Figure size 432x288 with 1 Axes>"
      ]
     },
     "metadata": {
      "needs_background": "light"
     },
     "output_type": "display_data"
    }
   ],
   "source": [
    "plt.boxplot(temp_df['time'])\n",
    "plt.show()\n"
   ]
  },
  {
   "cell_type": "code",
   "execution_count": 7,
   "id": "1e5ccacf-73c8-4ad0-95f0-261d01f4bd87",
   "metadata": {},
   "outputs": [
    {
     "data": {
      "image/png": "[encoded data removed]",
      "text/plain": [
       "<Figure size 432x288 with 1 Axes>"
      ]
     },
     "metadata": {
      "needs_background": "light"
     },
     "output_type": "display_data"
    }
   ],
   "source": [
    "plt.boxplot(temp_df['nhtemp'])\n",
    "plt.show()"
   ]
  },
  {
   "cell_type": "code",
   "execution_count": 13,
   "id": "9b7c04f1-058e-4f08-85c6-af085e51431f",
   "metadata": {},
   "outputs": [
    {
     "data": {
      "text/plain": [
       "time      0\n",
       "nhtemp    0\n",
       "dtype: int64"
      ]
     },
     "execution_count": 13,
     "metadata": {},
     "output_type": "execute_result"
    }
   ],
   "source": [
    "q1 = temp_df['nhtemp'].quantile(0.25)\n",
    "q3 = temp_df['nhtemp'].quantile(0.75)\n",
    "iqr = q3-q1\n",
    "ul = q3+1.5*iqr\n",
    "ll = q1-1.5*iqr\n",
    "temp_df[(temp_df['nhtemp'] > ul ) & (temp_df['nhtemp'] <ll )].count()"
   ]
  },
  {
   "cell_type": "markdown",
   "id": "50da6829-56bc-4ff8-bd25-0e4fc2e0540a",
   "metadata": {},
   "source": [
    "5. Identify the five point summary using the above plot.\n"
   ]
  },
  {
   "cell_type": "code",
   "execution_count": null,
   "id": "622bc938-f613-4232-918b-e56bc2627ce0",
   "metadata": {},
   "outputs": [],
   "source": []
  },
  {
   "cell_type": "markdown",
   "id": "5c5553cb-3041-43cc-b375-71f97207f2cb",
   "metadata": {},
   "source": [
    "6. Perform the same operations in matplotlib and seaborn as well and compare the difference in readability of the graphs."
   ]
  },
  {
   "cell_type": "code",
   "execution_count": null,
   "id": "a5fb4184-4182-4beb-b71f-05fda99dc994",
   "metadata": {},
   "outputs": [],
   "source": []
  }
 ],
 "metadata": {
  "kernelspec": {
   "display_name": "Python 3 (ipykernel)",
   "language": "python",
   "name": "python3"
  },
  "language_info": {
   "codemirror_mode": {
    "name": "ipython",
    "version": 3
   },
   "file_extension": ".py",
   "mimetype": "text/x-python",
   "name": "python",
   "nbconvert_exporter": "python",
   "pygments_lexer": "ipython3",
   "version": "3.9.12"
  }
 },
 "nbformat": 4,
 "nbformat_minor": 5
}
