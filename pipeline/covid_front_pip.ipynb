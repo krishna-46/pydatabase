{
 "cells": [
  {
   "cell_type": "code",
   "execution_count": 7,
   "id": "cccdf663-a9e3-435d-af2e-258fadaa9557",
   "metadata": {},
   "outputs": [],
   "source": [
    "import pickle\n",
    "import numpy as np\n",
    "\n",
    "pipe = pickle.load(open('covid.plk' , 'rb'))"
   ]
  },
  {
   "cell_type": "code",
   "execution_count": 11,
   "id": "adff7c6e-4ee3-4419-aa20-856f04c5cc30",
   "metadata": {},
   "outputs": [
    {
     "data": {
      "text/plain": [
       "array([[60, 'Male', 103.0, 'Mild', 'Kolkata']], dtype=object)"
      ]
     },
     "execution_count": 11,
     "metadata": {},
     "output_type": "execute_result"
    }
   ],
   "source": [
    "test_input1 = np.array([60, 'Male', 103.0, 'Mild', 'Kolkata'],dtype=object).reshape(1,5)\n"
   ]
  },
  {
   "cell_type": "code",
   "execution_count": 12,
   "id": "525e71b7-624b-48da-9831-1b47a507ffc1",
   "metadata": {},
   "outputs": [
    {
     "name": "stderr",
     "output_type": "stream",
     "text": [
      "C:\\Users\\krish\\Conda\\lib\\site-packages\\sklearn\\base.py:450: UserWarning: X does not have valid feature names, but OneHotEncoder was fitted with feature names\n",
      "  warnings.warn(\n"
     ]
    },
    {
     "data": {
      "text/plain": [
       "array(['No'], dtype=object)"
      ]
     },
     "execution_count": 12,
     "metadata": {},
     "output_type": "execute_result"
    }
   ],
   "source": [
    "pipe.predict(test_input1)"
   ]
  },
  {
   "cell_type": "code",
   "execution_count": 13,
   "id": "6b94db62-f216-4f3f-954f-162f9247a700",
   "metadata": {},
   "outputs": [],
   "source": [
    "test_input2 = np.array([27\t,'Male',\t100.0\t,'Mild'\t,'Delhi'],dtype=object).reshape(1,5)"
   ]
  },
  {
   "cell_type": "code",
   "execution_count": 14,
   "id": "4b8e171d-f75a-49d4-819c-2ddc1997ed84",
   "metadata": {},
   "outputs": [
    {
     "name": "stderr",
     "output_type": "stream",
     "text": [
      "C:\\Users\\krish\\Conda\\lib\\site-packages\\sklearn\\base.py:450: UserWarning: X does not have valid feature names, but OneHotEncoder was fitted with feature names\n",
      "  warnings.warn(\n"
     ]
    },
    {
     "data": {
      "text/plain": [
       "array(['Yes'], dtype=object)"
      ]
     },
     "execution_count": 14,
     "metadata": {},
     "output_type": "execute_result"
    }
   ],
   "source": [
    "pipe.predict(test_input2)"
   ]
  },
  {
   "cell_type": "code",
   "execution_count": null,
   "id": "14fe12d0-65c2-4f74-9cb8-afc4bea3e828",
   "metadata": {},
   "outputs": [],
   "source": []
  }
 ],
 "metadata": {
  "kernelspec": {
   "display_name": "Python 3 (ipykernel)",
   "language": "python",
   "name": "python3"
  },
  "language_info": {
   "codemirror_mode": {
    "name": "ipython",
    "version": 3
   },
   "file_extension": ".py",
   "mimetype": "text/x-python",
   "name": "python",
   "nbconvert_exporter": "python",
   "pygments_lexer": "ipython3",
   "version": "3.9.12"
  }
 },
 "nbformat": 4,
 "nbformat_minor": 5
}
