{
 "cells": [
  {
   "cell_type": "code",
   "execution_count": 17,
   "id": "b7a4f28b-5884-4714-bc3b-12f92aed5520",
   "metadata": {},
   "outputs": [
    {
     "data": {
      "text/html": [
       "<div>\n",
       "<style scoped>\n",
       "    .dataframe tbody tr th:only-of-type {\n",
       "        vertical-align: middle;\n",
       "    }\n",
       "\n",
       "    .dataframe tbody tr th {\n",
       "        vertical-align: top;\n",
       "    }\n",
       "\n",
       "    .dataframe thead th {\n",
       "        text-align: right;\n",
       "    }\n",
       "</style>\n",
       "<table border=\"1\" class=\"dataframe\">\n",
       "  <thead>\n",
       "    <tr style=\"text-align: right;\">\n",
       "      <th></th>\n",
       "      <th>treatment</th>\n",
       "      <th>stone_size</th>\n",
       "      <th>success</th>\n",
       "    </tr>\n",
       "  </thead>\n",
       "  <tbody>\n",
       "    <tr>\n",
       "      <th>0</th>\n",
       "      <td>B</td>\n",
       "      <td>large</td>\n",
       "      <td>1</td>\n",
       "    </tr>\n",
       "    <tr>\n",
       "      <th>1</th>\n",
       "      <td>A</td>\n",
       "      <td>large</td>\n",
       "      <td>1</td>\n",
       "    </tr>\n",
       "    <tr>\n",
       "      <th>2</th>\n",
       "      <td>A</td>\n",
       "      <td>large</td>\n",
       "      <td>0</td>\n",
       "    </tr>\n",
       "    <tr>\n",
       "      <th>3</th>\n",
       "      <td>A</td>\n",
       "      <td>large</td>\n",
       "      <td>1</td>\n",
       "    </tr>\n",
       "    <tr>\n",
       "      <th>4</th>\n",
       "      <td>A</td>\n",
       "      <td>large</td>\n",
       "      <td>1</td>\n",
       "    </tr>\n",
       "  </tbody>\n",
       "</table>\n",
       "</div>"
      ],
      "text/plain": [
       "  treatment stone_size  success\n",
       "0         B      large        1\n",
       "1         A      large        1\n",
       "2         A      large        0\n",
       "3         A      large        1\n",
       "4         A      large        1"
      ]
     },
     "execution_count": 17,
     "metadata": {},
     "output_type": "execute_result"
    }
   ],
   "source": [
    "import pandas as pd \n",
    "df = pd.read_csv('kidney_stone_data.csv')\n",
    "df.head()\n",
    "    "
   ]
  },
  {
   "cell_type": "code",
   "execution_count": 18,
   "id": "bf010888-f7e2-4b0f-8c56-5df690866c0a",
   "metadata": {},
   "outputs": [
    {
     "data": {
      "text/plain": [
       "treatment     0\n",
       "stone_size    0\n",
       "success       0\n",
       "dtype: int64"
      ]
     },
     "execution_count": 18,
     "metadata": {},
     "output_type": "execute_result"
    }
   ],
   "source": [
    "df.isnull().sum()"
   ]
  },
  {
   "cell_type": "code",
   "execution_count": 19,
   "id": "893a9e4d-f33c-44b1-83da-5391b20492d5",
   "metadata": {},
   "outputs": [
    {
     "data": {
      "text/plain": [
       "0      1\n",
       "1      1\n",
       "2      0\n",
       "3      1\n",
       "4      1\n",
       "      ..\n",
       "695    0\n",
       "696    1\n",
       "697    1\n",
       "698    1\n",
       "699    1\n",
       "Name: success, Length: 700, dtype: int64"
      ]
     },
     "execution_count": 19,
     "metadata": {},
     "output_type": "execute_result"
    }
   ],
   "source": [
    "x = df.iloc[:,0:2]\n",
    "x\n",
    "y = df.iloc[:,-1]\n",
    "y"
   ]
  },
  {
   "cell_type": "code",
   "execution_count": 20,
   "id": "2a9bb2c2-0505-424c-bd73-845b06c048b6",
   "metadata": {},
   "outputs": [],
   "source": [
    "from sklearn.model_selection import train_test_split\n",
    "\n",
    "x_train , x_test , y_train , y_test=train_test_split(x,y,train_size=0.2,random_state=2)\n"
   ]
  },
  {
   "cell_type": "code",
   "execution_count": 21,
   "id": "878490a8-90fb-4b22-af67-4a7de7fc9bd5",
   "metadata": {},
   "outputs": [
    {
     "data": {
      "text/html": [
       "<style>#sk-bad25124-f289-48af-9678-5a3c9c84b684 {color: black;background-color: white;}#sk-bad25124-f289-48af-9678-5a3c9c84b684 pre{padding: 0;}#sk-bad25124-f289-48af-9678-5a3c9c84b684 div.sk-toggleable {background-color: white;}#sk-bad25124-f289-48af-9678-5a3c9c84b684 label.sk-toggleable__label {cursor: pointer;display: block;width: 100%;margin-bottom: 0;padding: 0.3em;box-sizing: border-box;text-align: center;}#sk-bad25124-f289-48af-9678-5a3c9c84b684 label.sk-toggleable__label-arrow:before {content: \"▸\";float: left;margin-right: 0.25em;color: #696969;}#sk-bad25124-f289-48af-9678-5a3c9c84b684 label.sk-toggleable__label-arrow:hover:before {color: black;}#sk-bad25124-f289-48af-9678-5a3c9c84b684 div.sk-estimator:hover label.sk-toggleable__label-arrow:before {color: black;}#sk-bad25124-f289-48af-9678-5a3c9c84b684 div.sk-toggleable__content {max-height: 0;max-width: 0;overflow: hidden;text-align: left;background-color: #f0f8ff;}#sk-bad25124-f289-48af-9678-5a3c9c84b684 div.sk-toggleable__content pre {margin: 0.2em;color: black;border-radius: 0.25em;background-color: #f0f8ff;}#sk-bad25124-f289-48af-9678-5a3c9c84b684 input.sk-toggleable__control:checked~div.sk-toggleable__content {max-height: 200px;max-width: 100%;overflow: auto;}#sk-bad25124-f289-48af-9678-5a3c9c84b684 input.sk-toggleable__control:checked~label.sk-toggleable__label-arrow:before {content: \"▾\";}#sk-bad25124-f289-48af-9678-5a3c9c84b684 div.sk-estimator input.sk-toggleable__control:checked~label.sk-toggleable__label {background-color: #d4ebff;}#sk-bad25124-f289-48af-9678-5a3c9c84b684 div.sk-label input.sk-toggleable__control:checked~label.sk-toggleable__label {background-color: #d4ebff;}#sk-bad25124-f289-48af-9678-5a3c9c84b684 input.sk-hidden--visually {border: 0;clip: rect(1px 1px 1px 1px);clip: rect(1px, 1px, 1px, 1px);height: 1px;margin: -1px;overflow: hidden;padding: 0;position: absolute;width: 1px;}#sk-bad25124-f289-48af-9678-5a3c9c84b684 div.sk-estimator {font-family: monospace;background-color: #f0f8ff;border: 1px dotted black;border-radius: 0.25em;box-sizing: border-box;margin-bottom: 0.5em;}#sk-bad25124-f289-48af-9678-5a3c9c84b684 div.sk-estimator:hover {background-color: #d4ebff;}#sk-bad25124-f289-48af-9678-5a3c9c84b684 div.sk-parallel-item::after {content: \"\";width: 100%;border-bottom: 1px solid gray;flex-grow: 1;}#sk-bad25124-f289-48af-9678-5a3c9c84b684 div.sk-label:hover label.sk-toggleable__label {background-color: #d4ebff;}#sk-bad25124-f289-48af-9678-5a3c9c84b684 div.sk-serial::before {content: \"\";position: absolute;border-left: 1px solid gray;box-sizing: border-box;top: 2em;bottom: 0;left: 50%;}#sk-bad25124-f289-48af-9678-5a3c9c84b684 div.sk-serial {display: flex;flex-direction: column;align-items: center;background-color: white;padding-right: 0.2em;padding-left: 0.2em;}#sk-bad25124-f289-48af-9678-5a3c9c84b684 div.sk-item {z-index: 1;}#sk-bad25124-f289-48af-9678-5a3c9c84b684 div.sk-parallel {display: flex;align-items: stretch;justify-content: center;background-color: white;}#sk-bad25124-f289-48af-9678-5a3c9c84b684 div.sk-parallel::before {content: \"\";position: absolute;border-left: 1px solid gray;box-sizing: border-box;top: 2em;bottom: 0;left: 50%;}#sk-bad25124-f289-48af-9678-5a3c9c84b684 div.sk-parallel-item {display: flex;flex-direction: column;position: relative;background-color: white;}#sk-bad25124-f289-48af-9678-5a3c9c84b684 div.sk-parallel-item:first-child::after {align-self: flex-end;width: 50%;}#sk-bad25124-f289-48af-9678-5a3c9c84b684 div.sk-parallel-item:last-child::after {align-self: flex-start;width: 50%;}#sk-bad25124-f289-48af-9678-5a3c9c84b684 div.sk-parallel-item:only-child::after {width: 0;}#sk-bad25124-f289-48af-9678-5a3c9c84b684 div.sk-dashed-wrapped {border: 1px dashed gray;margin: 0 0.4em 0.5em 0.4em;box-sizing: border-box;padding-bottom: 0.4em;background-color: white;position: relative;}#sk-bad25124-f289-48af-9678-5a3c9c84b684 div.sk-label label {font-family: monospace;font-weight: bold;background-color: white;display: inline-block;line-height: 1.2em;}#sk-bad25124-f289-48af-9678-5a3c9c84b684 div.sk-label-container {position: relative;z-index: 2;text-align: center;}#sk-bad25124-f289-48af-9678-5a3c9c84b684 div.sk-container {/* jupyter's `normalize.less` sets `[hidden] { display: none; }` but bootstrap.min.css set `[hidden] { display: none !important; }` so we also need the `!important` here to be able to override the default hidden behavior on the sphinx rendered scikit-learn.org. See: https://github.com/scikit-learn/scikit-learn/issues/21755 */display: inline-block !important;position: relative;}#sk-bad25124-f289-48af-9678-5a3c9c84b684 div.sk-text-repr-fallback {display: none;}</style><div id=\"sk-bad25124-f289-48af-9678-5a3c9c84b684\" class=\"sk-top-container\"><div class=\"sk-text-repr-fallback\"><pre>ColumnTransformer(remainder=&#x27;passthrough&#x27;,\n",
       "                  transformers=[(&#x27;a&#x27;, OneHotEncoder(drop=&#x27;first&#x27;, sparse=False),\n",
       "                                 [0])])</pre><b>Please rerun this cell to show the HTML repr or trust the notebook.</b></div><div class=\"sk-container\" hidden><div class=\"sk-item sk-dashed-wrapped\"><div class=\"sk-label-container\"><div class=\"sk-label sk-toggleable\"><input class=\"sk-toggleable__control sk-hidden--visually\" id=\"1509da65-fc80-4867-91b6-219f54d973d0\" type=\"checkbox\" ><label for=\"1509da65-fc80-4867-91b6-219f54d973d0\" class=\"sk-toggleable__label sk-toggleable__label-arrow\">ColumnTransformer</label><div class=\"sk-toggleable__content\"><pre>ColumnTransformer(remainder=&#x27;passthrough&#x27;,\n",
       "                  transformers=[(&#x27;a&#x27;, OneHotEncoder(drop=&#x27;first&#x27;, sparse=False),\n",
       "                                 [0])])</pre></div></div></div><div class=\"sk-parallel\"><div class=\"sk-parallel-item\"><div class=\"sk-item\"><div class=\"sk-label-container\"><div class=\"sk-label sk-toggleable\"><input class=\"sk-toggleable__control sk-hidden--visually\" id=\"04030264-3a85-46b6-8cd1-d12c0fef20da\" type=\"checkbox\" ><label for=\"04030264-3a85-46b6-8cd1-d12c0fef20da\" class=\"sk-toggleable__label sk-toggleable__label-arrow\">a</label><div class=\"sk-toggleable__content\"><pre>[0]</pre></div></div></div><div class=\"sk-serial\"><div class=\"sk-item\"><div class=\"sk-estimator sk-toggleable\"><input class=\"sk-toggleable__control sk-hidden--visually\" id=\"f3ab27a7-51aa-49b0-8892-89ba972c0f12\" type=\"checkbox\" ><label for=\"f3ab27a7-51aa-49b0-8892-89ba972c0f12\" class=\"sk-toggleable__label sk-toggleable__label-arrow\">OneHotEncoder</label><div class=\"sk-toggleable__content\"><pre>OneHotEncoder(drop=&#x27;first&#x27;, sparse=False)</pre></div></div></div></div></div></div><div class=\"sk-parallel-item\"><div class=\"sk-item\"><div class=\"sk-label-container\"><div class=\"sk-label sk-toggleable\"><input class=\"sk-toggleable__control sk-hidden--visually\" id=\"7306ef86-1b8c-4624-8eca-3c47ca62d9e9\" type=\"checkbox\" ><label for=\"7306ef86-1b8c-4624-8eca-3c47ca62d9e9\" class=\"sk-toggleable__label sk-toggleable__label-arrow\">remainder</label><div class=\"sk-toggleable__content\"><pre></pre></div></div></div><div class=\"sk-serial\"><div class=\"sk-item\"><div class=\"sk-estimator sk-toggleable\"><input class=\"sk-toggleable__control sk-hidden--visually\" id=\"1b84e387-9652-4024-aac7-68b04bf78bea\" type=\"checkbox\" ><label for=\"1b84e387-9652-4024-aac7-68b04bf78bea\" class=\"sk-toggleable__label sk-toggleable__label-arrow\">passthrough</label><div class=\"sk-toggleable__content\"><pre>passthrough</pre></div></div></div></div></div></div></div></div></div></div>"
      ],
      "text/plain": [
       "ColumnTransformer(remainder='passthrough',\n",
       "                  transformers=[('a', OneHotEncoder(drop='first', sparse=False),\n",
       "                                 [0])])"
      ]
     },
     "execution_count": 21,
     "metadata": {},
     "output_type": "execute_result"
    }
   ],
   "source": [
    "from sklearn.preprocessing import OneHotEncoder , OrdinalEncoder\n",
    "from sklearn.compose import ColumnTransformer\n",
    "\n",
    "tr1=ColumnTransformer(transformers=[\n",
    "    ('a' , OneHotEncoder(drop='first' , sparse=False), [0])\n",
    "],remainder='passthrough')\n",
    "tr1"
   ]
  },
  {
   "cell_type": "code",
   "execution_count": 22,
   "id": "31f74b1c-1b48-467e-af5f-165c12580493",
   "metadata": {},
   "outputs": [
    {
     "data": {
      "text/html": [
       "<style>#sk-7ad72cb0-a5db-4ab4-9db3-bcb2ce3c7c9e {color: black;background-color: white;}#sk-7ad72cb0-a5db-4ab4-9db3-bcb2ce3c7c9e pre{padding: 0;}#sk-7ad72cb0-a5db-4ab4-9db3-bcb2ce3c7c9e div.sk-toggleable {background-color: white;}#sk-7ad72cb0-a5db-4ab4-9db3-bcb2ce3c7c9e label.sk-toggleable__label {cursor: pointer;display: block;width: 100%;margin-bottom: 0;padding: 0.3em;box-sizing: border-box;text-align: center;}#sk-7ad72cb0-a5db-4ab4-9db3-bcb2ce3c7c9e label.sk-toggleable__label-arrow:before {content: \"▸\";float: left;margin-right: 0.25em;color: #696969;}#sk-7ad72cb0-a5db-4ab4-9db3-bcb2ce3c7c9e label.sk-toggleable__label-arrow:hover:before {color: black;}#sk-7ad72cb0-a5db-4ab4-9db3-bcb2ce3c7c9e div.sk-estimator:hover label.sk-toggleable__label-arrow:before {color: black;}#sk-7ad72cb0-a5db-4ab4-9db3-bcb2ce3c7c9e div.sk-toggleable__content {max-height: 0;max-width: 0;overflow: hidden;text-align: left;background-color: #f0f8ff;}#sk-7ad72cb0-a5db-4ab4-9db3-bcb2ce3c7c9e div.sk-toggleable__content pre {margin: 0.2em;color: black;border-radius: 0.25em;background-color: #f0f8ff;}#sk-7ad72cb0-a5db-4ab4-9db3-bcb2ce3c7c9e input.sk-toggleable__control:checked~div.sk-toggleable__content {max-height: 200px;max-width: 100%;overflow: auto;}#sk-7ad72cb0-a5db-4ab4-9db3-bcb2ce3c7c9e input.sk-toggleable__control:checked~label.sk-toggleable__label-arrow:before {content: \"▾\";}#sk-7ad72cb0-a5db-4ab4-9db3-bcb2ce3c7c9e div.sk-estimator input.sk-toggleable__control:checked~label.sk-toggleable__label {background-color: #d4ebff;}#sk-7ad72cb0-a5db-4ab4-9db3-bcb2ce3c7c9e div.sk-label input.sk-toggleable__control:checked~label.sk-toggleable__label {background-color: #d4ebff;}#sk-7ad72cb0-a5db-4ab4-9db3-bcb2ce3c7c9e input.sk-hidden--visually {border: 0;clip: rect(1px 1px 1px 1px);clip: rect(1px, 1px, 1px, 1px);height: 1px;margin: -1px;overflow: hidden;padding: 0;position: absolute;width: 1px;}#sk-7ad72cb0-a5db-4ab4-9db3-bcb2ce3c7c9e div.sk-estimator {font-family: monospace;background-color: #f0f8ff;border: 1px dotted black;border-radius: 0.25em;box-sizing: border-box;margin-bottom: 0.5em;}#sk-7ad72cb0-a5db-4ab4-9db3-bcb2ce3c7c9e div.sk-estimator:hover {background-color: #d4ebff;}#sk-7ad72cb0-a5db-4ab4-9db3-bcb2ce3c7c9e div.sk-parallel-item::after {content: \"\";width: 100%;border-bottom: 1px solid gray;flex-grow: 1;}#sk-7ad72cb0-a5db-4ab4-9db3-bcb2ce3c7c9e div.sk-label:hover label.sk-toggleable__label {background-color: #d4ebff;}#sk-7ad72cb0-a5db-4ab4-9db3-bcb2ce3c7c9e div.sk-serial::before {content: \"\";position: absolute;border-left: 1px solid gray;box-sizing: border-box;top: 2em;bottom: 0;left: 50%;}#sk-7ad72cb0-a5db-4ab4-9db3-bcb2ce3c7c9e div.sk-serial {display: flex;flex-direction: column;align-items: center;background-color: white;padding-right: 0.2em;padding-left: 0.2em;}#sk-7ad72cb0-a5db-4ab4-9db3-bcb2ce3c7c9e div.sk-item {z-index: 1;}#sk-7ad72cb0-a5db-4ab4-9db3-bcb2ce3c7c9e div.sk-parallel {display: flex;align-items: stretch;justify-content: center;background-color: white;}#sk-7ad72cb0-a5db-4ab4-9db3-bcb2ce3c7c9e div.sk-parallel::before {content: \"\";position: absolute;border-left: 1px solid gray;box-sizing: border-box;top: 2em;bottom: 0;left: 50%;}#sk-7ad72cb0-a5db-4ab4-9db3-bcb2ce3c7c9e div.sk-parallel-item {display: flex;flex-direction: column;position: relative;background-color: white;}#sk-7ad72cb0-a5db-4ab4-9db3-bcb2ce3c7c9e div.sk-parallel-item:first-child::after {align-self: flex-end;width: 50%;}#sk-7ad72cb0-a5db-4ab4-9db3-bcb2ce3c7c9e div.sk-parallel-item:last-child::after {align-self: flex-start;width: 50%;}#sk-7ad72cb0-a5db-4ab4-9db3-bcb2ce3c7c9e div.sk-parallel-item:only-child::after {width: 0;}#sk-7ad72cb0-a5db-4ab4-9db3-bcb2ce3c7c9e div.sk-dashed-wrapped {border: 1px dashed gray;margin: 0 0.4em 0.5em 0.4em;box-sizing: border-box;padding-bottom: 0.4em;background-color: white;position: relative;}#sk-7ad72cb0-a5db-4ab4-9db3-bcb2ce3c7c9e div.sk-label label {font-family: monospace;font-weight: bold;background-color: white;display: inline-block;line-height: 1.2em;}#sk-7ad72cb0-a5db-4ab4-9db3-bcb2ce3c7c9e div.sk-label-container {position: relative;z-index: 2;text-align: center;}#sk-7ad72cb0-a5db-4ab4-9db3-bcb2ce3c7c9e div.sk-container {/* jupyter's `normalize.less` sets `[hidden] { display: none; }` but bootstrap.min.css set `[hidden] { display: none !important; }` so we also need the `!important` here to be able to override the default hidden behavior on the sphinx rendered scikit-learn.org. See: https://github.com/scikit-learn/scikit-learn/issues/21755 */display: inline-block !important;position: relative;}#sk-7ad72cb0-a5db-4ab4-9db3-bcb2ce3c7c9e div.sk-text-repr-fallback {display: none;}</style><div id=\"sk-7ad72cb0-a5db-4ab4-9db3-bcb2ce3c7c9e\" class=\"sk-top-container\"><div class=\"sk-text-repr-fallback\"><pre>ColumnTransformer(remainder=&#x27;passthrough&#x27;,\n",
       "                  transformers=[(&#x27;a&#x27;,\n",
       "                                 OrdinalEncoder(categories=[[&#x27;small&#x27;,\n",
       "                                                             &#x27;large&#x27;]]),\n",
       "                                 [1])])</pre><b>Please rerun this cell to show the HTML repr or trust the notebook.</b></div><div class=\"sk-container\" hidden><div class=\"sk-item sk-dashed-wrapped\"><div class=\"sk-label-container\"><div class=\"sk-label sk-toggleable\"><input class=\"sk-toggleable__control sk-hidden--visually\" id=\"767241b8-6ea2-4ef7-ae41-68158c8e889a\" type=\"checkbox\" ><label for=\"767241b8-6ea2-4ef7-ae41-68158c8e889a\" class=\"sk-toggleable__label sk-toggleable__label-arrow\">ColumnTransformer</label><div class=\"sk-toggleable__content\"><pre>ColumnTransformer(remainder=&#x27;passthrough&#x27;,\n",
       "                  transformers=[(&#x27;a&#x27;,\n",
       "                                 OrdinalEncoder(categories=[[&#x27;small&#x27;,\n",
       "                                                             &#x27;large&#x27;]]),\n",
       "                                 [1])])</pre></div></div></div><div class=\"sk-parallel\"><div class=\"sk-parallel-item\"><div class=\"sk-item\"><div class=\"sk-label-container\"><div class=\"sk-label sk-toggleable\"><input class=\"sk-toggleable__control sk-hidden--visually\" id=\"f7b66871-300b-4a89-802c-549c04f4d655\" type=\"checkbox\" ><label for=\"f7b66871-300b-4a89-802c-549c04f4d655\" class=\"sk-toggleable__label sk-toggleable__label-arrow\">a</label><div class=\"sk-toggleable__content\"><pre>[1]</pre></div></div></div><div class=\"sk-serial\"><div class=\"sk-item\"><div class=\"sk-estimator sk-toggleable\"><input class=\"sk-toggleable__control sk-hidden--visually\" id=\"3b2cabdc-c13f-4e03-87b9-6ee2e492e30e\" type=\"checkbox\" ><label for=\"3b2cabdc-c13f-4e03-87b9-6ee2e492e30e\" class=\"sk-toggleable__label sk-toggleable__label-arrow\">OrdinalEncoder</label><div class=\"sk-toggleable__content\"><pre>OrdinalEncoder(categories=[[&#x27;small&#x27;, &#x27;large&#x27;]])</pre></div></div></div></div></div></div><div class=\"sk-parallel-item\"><div class=\"sk-item\"><div class=\"sk-label-container\"><div class=\"sk-label sk-toggleable\"><input class=\"sk-toggleable__control sk-hidden--visually\" id=\"4402a663-9fe6-4942-a726-78df91959d43\" type=\"checkbox\" ><label for=\"4402a663-9fe6-4942-a726-78df91959d43\" class=\"sk-toggleable__label sk-toggleable__label-arrow\">remainder</label><div class=\"sk-toggleable__content\"><pre></pre></div></div></div><div class=\"sk-serial\"><div class=\"sk-item\"><div class=\"sk-estimator sk-toggleable\"><input class=\"sk-toggleable__control sk-hidden--visually\" id=\"c7ab03af-2a63-493e-9590-2fa40017a68a\" type=\"checkbox\" ><label for=\"c7ab03af-2a63-493e-9590-2fa40017a68a\" class=\"sk-toggleable__label sk-toggleable__label-arrow\">passthrough</label><div class=\"sk-toggleable__content\"><pre>passthrough</pre></div></div></div></div></div></div></div></div></div></div>"
      ],
      "text/plain": [
       "ColumnTransformer(remainder='passthrough',\n",
       "                  transformers=[('a',\n",
       "                                 OrdinalEncoder(categories=[['small',\n",
       "                                                             'large']]),\n",
       "                                 [1])])"
      ]
     },
     "execution_count": 22,
     "metadata": {},
     "output_type": "execute_result"
    }
   ],
   "source": [
    "tr2=ColumnTransformer(transformers=[\n",
    "    ('a' , OrdinalEncoder(categories=[['small' , 'large']]), [1])\n",
    "],remainder='passthrough')\n",
    "tr2"
   ]
  },
  {
   "cell_type": "code",
   "execution_count": 23,
   "id": "5f92cf22-1275-4619-9798-c0bcfcd11ea1",
   "metadata": {},
   "outputs": [],
   "source": [
    "from sklearn.feature_selection import SelectKBest,chi2\n",
    "sb = SelectKBest(score_func=chi2,k=2)"
   ]
  },
  {
   "cell_type": "code",
   "execution_count": 24,
   "id": "693cd182-eb03-416b-96dd-0d40841f6d70",
   "metadata": {},
   "outputs": [],
   "source": [
    "from sklearn.tree import DecisionTreeClassifier\n",
    "\n",
    "dtc = DecisionTreeClassifier()"
   ]
  },
  {
   "cell_type": "code",
   "execution_count": 25,
   "id": "6e4a12e8-3988-40c2-9b97-1d80228afc15",
   "metadata": {},
   "outputs": [],
   "source": [
    "from sklearn.pipeline import Pipeline,make_pipeline\n",
    "pipe=Pipeline([\n",
    "    ('tr1',tr1),\n",
    "    ('tr2',tr2),\n",
    "    ('sb',sb),\n",
    "    ('dtc',dtc)\n",
    "])"
   ]
  },
  {
   "cell_type": "code",
   "execution_count": 26,
   "id": "ce8d09cb-51a4-42b0-9ff7-7e4116d010d4",
   "metadata": {},
   "outputs": [
    {
     "data": {
      "text/html": [
       "<style>#sk-786998e5-9561-4a8f-930d-a52a97cb5898 {color: black;background-color: white;}#sk-786998e5-9561-4a8f-930d-a52a97cb5898 pre{padding: 0;}#sk-786998e5-9561-4a8f-930d-a52a97cb5898 div.sk-toggleable {background-color: white;}#sk-786998e5-9561-4a8f-930d-a52a97cb5898 label.sk-toggleable__label {cursor: pointer;display: block;width: 100%;margin-bottom: 0;padding: 0.3em;box-sizing: border-box;text-align: center;}#sk-786998e5-9561-4a8f-930d-a52a97cb5898 label.sk-toggleable__label-arrow:before {content: \"▸\";float: left;margin-right: 0.25em;color: #696969;}#sk-786998e5-9561-4a8f-930d-a52a97cb5898 label.sk-toggleable__label-arrow:hover:before {color: black;}#sk-786998e5-9561-4a8f-930d-a52a97cb5898 div.sk-estimator:hover label.sk-toggleable__label-arrow:before {color: black;}#sk-786998e5-9561-4a8f-930d-a52a97cb5898 div.sk-toggleable__content {max-height: 0;max-width: 0;overflow: hidden;text-align: left;background-color: #f0f8ff;}#sk-786998e5-9561-4a8f-930d-a52a97cb5898 div.sk-toggleable__content pre {margin: 0.2em;color: black;border-radius: 0.25em;background-color: #f0f8ff;}#sk-786998e5-9561-4a8f-930d-a52a97cb5898 input.sk-toggleable__control:checked~div.sk-toggleable__content {max-height: 200px;max-width: 100%;overflow: auto;}#sk-786998e5-9561-4a8f-930d-a52a97cb5898 input.sk-toggleable__control:checked~label.sk-toggleable__label-arrow:before {content: \"▾\";}#sk-786998e5-9561-4a8f-930d-a52a97cb5898 div.sk-estimator input.sk-toggleable__control:checked~label.sk-toggleable__label {background-color: #d4ebff;}#sk-786998e5-9561-4a8f-930d-a52a97cb5898 div.sk-label input.sk-toggleable__control:checked~label.sk-toggleable__label {background-color: #d4ebff;}#sk-786998e5-9561-4a8f-930d-a52a97cb5898 input.sk-hidden--visually {border: 0;clip: rect(1px 1px 1px 1px);clip: rect(1px, 1px, 1px, 1px);height: 1px;margin: -1px;overflow: hidden;padding: 0;position: absolute;width: 1px;}#sk-786998e5-9561-4a8f-930d-a52a97cb5898 div.sk-estimator {font-family: monospace;background-color: #f0f8ff;border: 1px dotted black;border-radius: 0.25em;box-sizing: border-box;margin-bottom: 0.5em;}#sk-786998e5-9561-4a8f-930d-a52a97cb5898 div.sk-estimator:hover {background-color: #d4ebff;}#sk-786998e5-9561-4a8f-930d-a52a97cb5898 div.sk-parallel-item::after {content: \"\";width: 100%;border-bottom: 1px solid gray;flex-grow: 1;}#sk-786998e5-9561-4a8f-930d-a52a97cb5898 div.sk-label:hover label.sk-toggleable__label {background-color: #d4ebff;}#sk-786998e5-9561-4a8f-930d-a52a97cb5898 div.sk-serial::before {content: \"\";position: absolute;border-left: 1px solid gray;box-sizing: border-box;top: 2em;bottom: 0;left: 50%;}#sk-786998e5-9561-4a8f-930d-a52a97cb5898 div.sk-serial {display: flex;flex-direction: column;align-items: center;background-color: white;padding-right: 0.2em;padding-left: 0.2em;}#sk-786998e5-9561-4a8f-930d-a52a97cb5898 div.sk-item {z-index: 1;}#sk-786998e5-9561-4a8f-930d-a52a97cb5898 div.sk-parallel {display: flex;align-items: stretch;justify-content: center;background-color: white;}#sk-786998e5-9561-4a8f-930d-a52a97cb5898 div.sk-parallel::before {content: \"\";position: absolute;border-left: 1px solid gray;box-sizing: border-box;top: 2em;bottom: 0;left: 50%;}#sk-786998e5-9561-4a8f-930d-a52a97cb5898 div.sk-parallel-item {display: flex;flex-direction: column;position: relative;background-color: white;}#sk-786998e5-9561-4a8f-930d-a52a97cb5898 div.sk-parallel-item:first-child::after {align-self: flex-end;width: 50%;}#sk-786998e5-9561-4a8f-930d-a52a97cb5898 div.sk-parallel-item:last-child::after {align-self: flex-start;width: 50%;}#sk-786998e5-9561-4a8f-930d-a52a97cb5898 div.sk-parallel-item:only-child::after {width: 0;}#sk-786998e5-9561-4a8f-930d-a52a97cb5898 div.sk-dashed-wrapped {border: 1px dashed gray;margin: 0 0.4em 0.5em 0.4em;box-sizing: border-box;padding-bottom: 0.4em;background-color: white;position: relative;}#sk-786998e5-9561-4a8f-930d-a52a97cb5898 div.sk-label label {font-family: monospace;font-weight: bold;background-color: white;display: inline-block;line-height: 1.2em;}#sk-786998e5-9561-4a8f-930d-a52a97cb5898 div.sk-label-container {position: relative;z-index: 2;text-align: center;}#sk-786998e5-9561-4a8f-930d-a52a97cb5898 div.sk-container {/* jupyter's `normalize.less` sets `[hidden] { display: none; }` but bootstrap.min.css set `[hidden] { display: none !important; }` so we also need the `!important` here to be able to override the default hidden behavior on the sphinx rendered scikit-learn.org. See: https://github.com/scikit-learn/scikit-learn/issues/21755 */display: inline-block !important;position: relative;}#sk-786998e5-9561-4a8f-930d-a52a97cb5898 div.sk-text-repr-fallback {display: none;}</style><div id=\"sk-786998e5-9561-4a8f-930d-a52a97cb5898\" class=\"sk-top-container\"><div class=\"sk-text-repr-fallback\"><pre>Pipeline(steps=[(&#x27;tr1&#x27;,\n",
       "                 ColumnTransformer(remainder=&#x27;passthrough&#x27;,\n",
       "                                   transformers=[(&#x27;a&#x27;,\n",
       "                                                  OneHotEncoder(drop=&#x27;first&#x27;,\n",
       "                                                                sparse=False),\n",
       "                                                  [0])])),\n",
       "                (&#x27;tr2&#x27;,\n",
       "                 ColumnTransformer(remainder=&#x27;passthrough&#x27;,\n",
       "                                   transformers=[(&#x27;a&#x27;,\n",
       "                                                  OrdinalEncoder(categories=[[&#x27;small&#x27;,\n",
       "                                                                              &#x27;large&#x27;]]),\n",
       "                                                  [1])])),\n",
       "                (&#x27;sb&#x27;,\n",
       "                 SelectKBest(k=2,\n",
       "                             score_func=&lt;function chi2 at 0x00000235ABE70280&gt;)),\n",
       "                (&#x27;dtc&#x27;, DecisionTreeClassifier())])</pre><b>Please rerun this cell to show the HTML repr or trust the notebook.</b></div><div class=\"sk-container\" hidden><div class=\"sk-item sk-dashed-wrapped\"><div class=\"sk-label-container\"><div class=\"sk-label sk-toggleable\"><input class=\"sk-toggleable__control sk-hidden--visually\" id=\"bc786626-666c-4607-977b-664c1c110b42\" type=\"checkbox\" ><label for=\"bc786626-666c-4607-977b-664c1c110b42\" class=\"sk-toggleable__label sk-toggleable__label-arrow\">Pipeline</label><div class=\"sk-toggleable__content\"><pre>Pipeline(steps=[(&#x27;tr1&#x27;,\n",
       "                 ColumnTransformer(remainder=&#x27;passthrough&#x27;,\n",
       "                                   transformers=[(&#x27;a&#x27;,\n",
       "                                                  OneHotEncoder(drop=&#x27;first&#x27;,\n",
       "                                                                sparse=False),\n",
       "                                                  [0])])),\n",
       "                (&#x27;tr2&#x27;,\n",
       "                 ColumnTransformer(remainder=&#x27;passthrough&#x27;,\n",
       "                                   transformers=[(&#x27;a&#x27;,\n",
       "                                                  OrdinalEncoder(categories=[[&#x27;small&#x27;,\n",
       "                                                                              &#x27;large&#x27;]]),\n",
       "                                                  [1])])),\n",
       "                (&#x27;sb&#x27;,\n",
       "                 SelectKBest(k=2,\n",
       "                             score_func=&lt;function chi2 at 0x00000235ABE70280&gt;)),\n",
       "                (&#x27;dtc&#x27;, DecisionTreeClassifier())])</pre></div></div></div><div class=\"sk-serial\"><div class=\"sk-item sk-dashed-wrapped\"><div class=\"sk-label-container\"><div class=\"sk-label sk-toggleable\"><input class=\"sk-toggleable__control sk-hidden--visually\" id=\"03722383-1529-4215-8b82-44982856d339\" type=\"checkbox\" ><label for=\"03722383-1529-4215-8b82-44982856d339\" class=\"sk-toggleable__label sk-toggleable__label-arrow\">tr1: ColumnTransformer</label><div class=\"sk-toggleable__content\"><pre>ColumnTransformer(remainder=&#x27;passthrough&#x27;,\n",
       "                  transformers=[(&#x27;a&#x27;, OneHotEncoder(drop=&#x27;first&#x27;, sparse=False),\n",
       "                                 [0])])</pre></div></div></div><div class=\"sk-parallel\"><div class=\"sk-parallel-item\"><div class=\"sk-item\"><div class=\"sk-label-container\"><div class=\"sk-label sk-toggleable\"><input class=\"sk-toggleable__control sk-hidden--visually\" id=\"140b8655-5e38-4597-83b0-40f081f753d1\" type=\"checkbox\" ><label for=\"140b8655-5e38-4597-83b0-40f081f753d1\" class=\"sk-toggleable__label sk-toggleable__label-arrow\">a</label><div class=\"sk-toggleable__content\"><pre>[0]</pre></div></div></div><div class=\"sk-serial\"><div class=\"sk-item\"><div class=\"sk-estimator sk-toggleable\"><input class=\"sk-toggleable__control sk-hidden--visually\" id=\"67a66f1b-8c7d-4a1f-b732-a5e8e9d282bf\" type=\"checkbox\" ><label for=\"67a66f1b-8c7d-4a1f-b732-a5e8e9d282bf\" class=\"sk-toggleable__label sk-toggleable__label-arrow\">OneHotEncoder</label><div class=\"sk-toggleable__content\"><pre>OneHotEncoder(drop=&#x27;first&#x27;, sparse=False)</pre></div></div></div></div></div></div><div class=\"sk-parallel-item\"><div class=\"sk-item\"><div class=\"sk-label-container\"><div class=\"sk-label sk-toggleable\"><input class=\"sk-toggleable__control sk-hidden--visually\" id=\"153899ac-1470-42a4-8279-a866da8b44a2\" type=\"checkbox\" ><label for=\"153899ac-1470-42a4-8279-a866da8b44a2\" class=\"sk-toggleable__label sk-toggleable__label-arrow\">remainder</label><div class=\"sk-toggleable__content\"><pre>[&#x27;stone_size&#x27;]</pre></div></div></div><div class=\"sk-serial\"><div class=\"sk-item\"><div class=\"sk-estimator sk-toggleable\"><input class=\"sk-toggleable__control sk-hidden--visually\" id=\"1b2c5684-1a47-4f7a-9209-180514ecf76e\" type=\"checkbox\" ><label for=\"1b2c5684-1a47-4f7a-9209-180514ecf76e\" class=\"sk-toggleable__label sk-toggleable__label-arrow\">passthrough</label><div class=\"sk-toggleable__content\"><pre>passthrough</pre></div></div></div></div></div></div></div></div><div class=\"sk-item sk-dashed-wrapped\"><div class=\"sk-label-container\"><div class=\"sk-label sk-toggleable\"><input class=\"sk-toggleable__control sk-hidden--visually\" id=\"e9a6be7d-82d2-4ff2-b8d4-4d6ae225cb3e\" type=\"checkbox\" ><label for=\"e9a6be7d-82d2-4ff2-b8d4-4d6ae225cb3e\" class=\"sk-toggleable__label sk-toggleable__label-arrow\">tr2: ColumnTransformer</label><div class=\"sk-toggleable__content\"><pre>ColumnTransformer(remainder=&#x27;passthrough&#x27;,\n",
       "                  transformers=[(&#x27;a&#x27;,\n",
       "                                 OrdinalEncoder(categories=[[&#x27;small&#x27;,\n",
       "                                                             &#x27;large&#x27;]]),\n",
       "                                 [1])])</pre></div></div></div><div class=\"sk-parallel\"><div class=\"sk-parallel-item\"><div class=\"sk-item\"><div class=\"sk-label-container\"><div class=\"sk-label sk-toggleable\"><input class=\"sk-toggleable__control sk-hidden--visually\" id=\"c8e8fa6e-3813-456d-bcb1-733be5af89f0\" type=\"checkbox\" ><label for=\"c8e8fa6e-3813-456d-bcb1-733be5af89f0\" class=\"sk-toggleable__label sk-toggleable__label-arrow\">a</label><div class=\"sk-toggleable__content\"><pre>[1]</pre></div></div></div><div class=\"sk-serial\"><div class=\"sk-item\"><div class=\"sk-estimator sk-toggleable\"><input class=\"sk-toggleable__control sk-hidden--visually\" id=\"125c69f9-b82c-4f48-a1dc-b3f972a09d20\" type=\"checkbox\" ><label for=\"125c69f9-b82c-4f48-a1dc-b3f972a09d20\" class=\"sk-toggleable__label sk-toggleable__label-arrow\">OrdinalEncoder</label><div class=\"sk-toggleable__content\"><pre>OrdinalEncoder(categories=[[&#x27;small&#x27;, &#x27;large&#x27;]])</pre></div></div></div></div></div></div><div class=\"sk-parallel-item\"><div class=\"sk-item\"><div class=\"sk-label-container\"><div class=\"sk-label sk-toggleable\"><input class=\"sk-toggleable__control sk-hidden--visually\" id=\"48367cf1-9c57-4efa-bb4d-3191b0a40792\" type=\"checkbox\" ><label for=\"48367cf1-9c57-4efa-bb4d-3191b0a40792\" class=\"sk-toggleable__label sk-toggleable__label-arrow\">remainder</label><div class=\"sk-toggleable__content\"><pre>[0]</pre></div></div></div><div class=\"sk-serial\"><div class=\"sk-item\"><div class=\"sk-estimator sk-toggleable\"><input class=\"sk-toggleable__control sk-hidden--visually\" id=\"d3dd1056-5f84-458f-b15d-f6493e7db320\" type=\"checkbox\" ><label for=\"d3dd1056-5f84-458f-b15d-f6493e7db320\" class=\"sk-toggleable__label sk-toggleable__label-arrow\">passthrough</label><div class=\"sk-toggleable__content\"><pre>passthrough</pre></div></div></div></div></div></div></div></div><div class=\"sk-item\"><div class=\"sk-estimator sk-toggleable\"><input class=\"sk-toggleable__control sk-hidden--visually\" id=\"3b4bfc71-0029-4cfb-a87b-803f49d93d1a\" type=\"checkbox\" ><label for=\"3b4bfc71-0029-4cfb-a87b-803f49d93d1a\" class=\"sk-toggleable__label sk-toggleable__label-arrow\">SelectKBest</label><div class=\"sk-toggleable__content\"><pre>SelectKBest(k=2, score_func=&lt;function chi2 at 0x00000235ABE70280&gt;)</pre></div></div></div><div class=\"sk-item\"><div class=\"sk-estimator sk-toggleable\"><input class=\"sk-toggleable__control sk-hidden--visually\" id=\"cc335c4b-b0e5-4d6d-9160-952f01d0d313\" type=\"checkbox\" ><label for=\"cc335c4b-b0e5-4d6d-9160-952f01d0d313\" class=\"sk-toggleable__label sk-toggleable__label-arrow\">DecisionTreeClassifier</label><div class=\"sk-toggleable__content\"><pre>DecisionTreeClassifier()</pre></div></div></div></div></div></div></div>"
      ],
      "text/plain": [
       "Pipeline(steps=[('tr1',\n",
       "                 ColumnTransformer(remainder='passthrough',\n",
       "                                   transformers=[('a',\n",
       "                                                  OneHotEncoder(drop='first',\n",
       "                                                                sparse=False),\n",
       "                                                  [0])])),\n",
       "                ('tr2',\n",
       "                 ColumnTransformer(remainder='passthrough',\n",
       "                                   transformers=[('a',\n",
       "                                                  OrdinalEncoder(categories=[['small',\n",
       "                                                                              'large']]),\n",
       "                                                  [1])])),\n",
       "                ('sb',\n",
       "                 SelectKBest(k=2,\n",
       "                             score_func=<function chi2 at 0x00000235ABE70280>)),\n",
       "                ('dtc', DecisionTreeClassifier())])"
      ]
     },
     "execution_count": 26,
     "metadata": {},
     "output_type": "execute_result"
    }
   ],
   "source": [
    "pipe.fit(x_train , y_train)"
   ]
  },
  {
   "cell_type": "code",
   "execution_count": 27,
   "id": "9ba5e8d2-1810-4478-a5bc-ffa1d870af60",
   "metadata": {},
   "outputs": [
    {
     "data": {
      "text/plain": [
       "{'tr1': ColumnTransformer(remainder='passthrough',\n",
       "                   transformers=[('a', OneHotEncoder(drop='first', sparse=False),\n",
       "                                  [0])]),\n",
       " 'tr2': ColumnTransformer(remainder='passthrough',\n",
       "                   transformers=[('a',\n",
       "                                  OrdinalEncoder(categories=[['small',\n",
       "                                                              'large']]),\n",
       "                                  [1])]),\n",
       " 'sb': SelectKBest(k=2, score_func=<function chi2 at 0x00000235ABE70280>),\n",
       " 'dtc': DecisionTreeClassifier()}"
      ]
     },
     "execution_count": 27,
     "metadata": {},
     "output_type": "execute_result"
    }
   ],
   "source": [
    "pipe.named_steps"
   ]
  },
  {
   "cell_type": "code",
   "execution_count": 28,
   "id": "e719f1d3-fd25-4b2c-9f06-34284579ad40",
   "metadata": {},
   "outputs": [],
   "source": [
    "from sklearn import set_config\n",
    "set_config(display='diagram')"
   ]
  },
  {
   "cell_type": "code",
   "execution_count": 29,
   "id": "c3dbe7a2-fde7-41e3-8b6b-9672448390c4",
   "metadata": {},
   "outputs": [
    {
     "data": {
      "text/plain": [
       "array([1, 1, 1, 1, 1, 1, 1, 1, 1, 1, 1, 1, 1, 1, 1, 1, 1, 1, 1, 1, 1, 1,\n",
       "       1, 1, 1, 1, 1, 1, 1, 1, 1, 1, 1, 1, 1, 1, 1, 1, 1, 1, 1, 1, 1, 1,\n",
       "       1, 1, 1, 1, 1, 1, 1, 1, 1, 1, 1, 1, 1, 1, 1, 1, 1, 1, 1, 1, 1, 1,\n",
       "       1, 1, 1, 1, 1, 1, 1, 1, 1, 1, 1, 1, 1, 1, 1, 1, 1, 1, 1, 1, 1, 1,\n",
       "       1, 1, 1, 1, 1, 1, 1, 1, 1, 1, 1, 1, 1, 1, 1, 1, 1, 1, 1, 1, 1, 1,\n",
       "       1, 1, 1, 1, 1, 1, 1, 1, 1, 1, 1, 1, 1, 1, 1, 1, 1, 1, 1, 1, 1, 1,\n",
       "       1, 1, 1, 1, 1, 1, 1, 1, 1, 1, 1, 1, 1, 1, 1, 1, 1, 1, 1, 1, 1, 1,\n",
       "       1, 1, 1, 1, 1, 1, 1, 1, 1, 1, 1, 1, 1, 1, 1, 1, 1, 1, 1, 1, 1, 1,\n",
       "       1, 1, 1, 1, 1, 1, 1, 1, 1, 1, 1, 1, 1, 1, 1, 1, 1, 1, 1, 1, 1, 1,\n",
       "       1, 1, 1, 1, 1, 1, 1, 1, 1, 1, 1, 1, 1, 1, 1, 1, 1, 1, 1, 1, 1, 1,\n",
       "       1, 1, 1, 1, 1, 1, 1, 1, 1, 1, 1, 1, 1, 1, 1, 1, 1, 1, 1, 1, 1, 1,\n",
       "       1, 1, 1, 1, 1, 1, 1, 1, 1, 1, 1, 1, 1, 1, 1, 1, 1, 1, 1, 1, 1, 1,\n",
       "       1, 1, 1, 1, 1, 1, 1, 1, 1, 1, 1, 1, 1, 1, 1, 1, 1, 1, 1, 1, 1, 1,\n",
       "       1, 1, 1, 1, 1, 1, 1, 1, 1, 1, 1, 1, 1, 1, 1, 1, 1, 1, 1, 1, 1, 1,\n",
       "       1, 1, 1, 1, 1, 1, 1, 1, 1, 1, 1, 1, 1, 1, 1, 1, 1, 1, 1, 1, 1, 1,\n",
       "       1, 1, 1, 1, 1, 1, 1, 1, 1, 1, 1, 1, 1, 1, 1, 1, 1, 1, 1, 1, 1, 1,\n",
       "       1, 1, 1, 1, 1, 1, 1, 1, 1, 1, 1, 1, 1, 1, 1, 1, 1, 1, 1, 1, 1, 1,\n",
       "       1, 1, 1, 1, 1, 1, 1, 1, 1, 1, 1, 1, 1, 1, 1, 1, 1, 1, 1, 1, 1, 1,\n",
       "       1, 1, 1, 1, 1, 1, 1, 1, 1, 1, 1, 1, 1, 1, 1, 1, 1, 1, 1, 1, 1, 1,\n",
       "       1, 1, 1, 1, 1, 1, 1, 1, 1, 1, 1, 1, 1, 1, 1, 1, 1, 1, 1, 1, 1, 1,\n",
       "       1, 1, 1, 1, 1, 1, 1, 1, 1, 1, 1, 1, 1, 1, 1, 1, 1, 1, 1, 1, 1, 1,\n",
       "       1, 1, 1, 1, 1, 1, 1, 1, 1, 1, 1, 1, 1, 1, 1, 1, 1, 1, 1, 1, 1, 1,\n",
       "       1, 1, 1, 1, 1, 1, 1, 1, 1, 1, 1, 1, 1, 1, 1, 1, 1, 1, 1, 1, 1, 1,\n",
       "       1, 1, 1, 1, 1, 1, 1, 1, 1, 1, 1, 1, 1, 1, 1, 1, 1, 1, 1, 1, 1, 1,\n",
       "       1, 1, 1, 1, 1, 1, 1, 1, 1, 1, 1, 1, 1, 1, 1, 1, 1, 1, 1, 1, 1, 1,\n",
       "       1, 1, 1, 1, 1, 1, 1, 1, 1, 1], dtype=int64)"
      ]
     },
     "execution_count": 29,
     "metadata": {},
     "output_type": "execute_result"
    }
   ],
   "source": [
    "y_pred = pipe.predict(x_test)\n",
    "y_pred"
   ]
  },
  {
   "cell_type": "code",
   "execution_count": 30,
   "id": "96882066-53a5-4886-a5ae-78fcd3125c49",
   "metadata": {},
   "outputs": [
    {
     "data": {
      "text/plain": [
       "0.8178571428571428"
      ]
     },
     "execution_count": 30,
     "metadata": {},
     "output_type": "execute_result"
    }
   ],
   "source": [
    "from sklearn.metrics import accuracy_score\n",
    "\n",
    "accuracy_score(y_test , y_pred)"
   ]
  },
  {
   "cell_type": "code",
   "execution_count": 31,
   "id": "81d43e0d-8357-4b61-a24c-880cbe16fd68",
   "metadata": {},
   "outputs": [
    {
     "data": {
      "text/plain": [
       "0.7428571428571429"
      ]
     },
     "execution_count": 31,
     "metadata": {},
     "output_type": "execute_result"
    }
   ],
   "source": [
    "from sklearn.model_selection import cross_val_score\n",
    "\n",
    "cross_val_score(pipe ,x_train , y_train , cv=5 , scoring='accuracy').mean()"
   ]
  },
  {
   "cell_type": "code",
   "execution_count": 32,
   "id": "f9df336f-f631-4726-80be-3e2aeed1eda3",
   "metadata": {},
   "outputs": [],
   "source": [
    "import pickle\n",
    "pickle.dump(pipe,open('KSD.pkl' , 'wb'))"
   ]
  },
  {
   "cell_type": "code",
   "execution_count": 33,
   "id": "71be1c65-c9d8-4e39-a52a-2a9dfb634163",
   "metadata": {},
   "outputs": [
    {
     "data": {
      "text/plain": [
       "(array([ 12,  18,  29,  31,  34,  37,  46,  56,  57,  59,  60,  63,  67,\n",
       "         81,  82,  83,  94,  95, 102, 110, 116, 118, 125, 131, 133, 139,\n",
       "        141, 143, 154, 156, 157, 164, 167, 172, 175, 192, 198, 199, 202,\n",
       "        203, 204, 214, 217, 220, 221, 225, 235, 246, 252, 254, 260, 267,\n",
       "        276, 277, 289, 310, 311, 313, 320, 335, 343, 371, 373, 385, 388,\n",
       "        391, 394, 395, 397, 398, 409, 410, 412, 417, 418, 433, 434, 435,\n",
       "        438, 448, 462, 464, 482, 487, 490, 500, 505, 512, 517, 522, 523,\n",
       "        525, 526, 527, 530, 531, 536, 541, 543, 554, 556, 557], dtype=int64),)"
      ]
     },
     "execution_count": 33,
     "metadata": {},
     "output_type": "execute_result"
    }
   ],
   "source": [
    "import numpy as np\n",
    "np.where(y_test.values==0)"
   ]
  },
  {
   "cell_type": "code",
   "execution_count": 34,
   "id": "7bd13051-65e9-46c2-9159-4d7847168594",
   "metadata": {},
   "outputs": [
    {
     "data": {
      "text/plain": [
       "treatment         A\n",
       "stone_size    large\n",
       "success           0\n",
       "Name: 12, dtype: object"
      ]
     },
     "execution_count": 34,
     "metadata": {},
     "output_type": "execute_result"
    }
   ],
   "source": [
    "df.loc[12,:]"
   ]
  },
  {
   "cell_type": "code",
   "execution_count": null,
   "id": "7e463337-7119-44f6-ad21-a8f38ece5ce0",
   "metadata": {},
   "outputs": [],
   "source": []
  }
 ],
 "metadata": {
  "kernelspec": {
   "display_name": "Python 3 (ipykernel)",
   "language": "python",
   "name": "python3"
  },
  "language_info": {
   "codemirror_mode": {
    "name": "ipython",
    "version": 3
   },
   "file_extension": ".py",
   "mimetype": "text/x-python",
   "name": "python",
   "nbconvert_exporter": "python",
   "pygments_lexer": "ipython3",
   "version": "3.9.12"
  }
 },
 "nbformat": 4,
 "nbformat_minor": 5
}
