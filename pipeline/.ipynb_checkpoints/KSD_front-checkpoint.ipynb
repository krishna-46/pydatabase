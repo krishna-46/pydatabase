{
 "cells": [
  {
   "cell_type": "code",
   "execution_count": 11,
   "id": "c2af79d4-ed07-422d-a898-bd9c0915e872",
   "metadata": {},
   "outputs": [],
   "source": [
    "import pickle\n",
    "import numpy as np"
   ]
  },
  {
   "cell_type": "code",
   "execution_count": 14,
   "id": "483fd143-2bd0-46ca-ac10-95908e1147af",
   "metadata": {},
   "outputs": [],
   "source": [
    "pipe = pickle.load(open('KSD.pkl' , 'rb'))"
   ]
  },
  {
   "cell_type": "markdown",
   "id": "b14dacd0-f246-4e1a-ad7f-9deea37020c2",
   "metadata": {},
   "source": []
  },
  {
   "cell_type": "code",
   "execution_count": 15,
   "id": "a4f9adfa-1ad7-4de6-bcbe-52008ebd4225",
   "metadata": {},
   "outputs": [],
   "source": [
    "t_input_1 = np.array(['A','large']).reshape(1,2)"
   ]
  },
  {
   "cell_type": "code",
   "execution_count": 16,
   "id": "f515bdbf-6baf-48ec-9644-ae2ad1ba431d",
   "metadata": {},
   "outputs": [
    {
     "name": "stderr",
     "output_type": "stream",
     "text": [
      "C:\\Users\\CS-L2-PC13\\anaconda3\\lib\\site-packages\\sklearn\\base.py:450: UserWarning: X does not have valid feature names, but OneHotEncoder was fitted with feature names\n",
      "  warnings.warn(\n"
     ]
    },
    {
     "data": {
      "text/plain": [
       "array([1], dtype=int64)"
      ]
     },
     "execution_count": 16,
     "metadata": {},
     "output_type": "execute_result"
    }
   ],
   "source": [
    "pipe.predict(t_input_1)"
   ]
  },
  {
   "cell_type": "code",
   "execution_count": null,
   "id": "1a407793-2307-43d0-aca9-4ec816db200d",
   "metadata": {},
   "outputs": [],
   "source": []
  }
 ],
 "metadata": {
  "kernelspec": {
   "display_name": "Python 3 (ipykernel)",
   "language": "python",
   "name": "python3"
  },
  "language_info": {
   "codemirror_mode": {
    "name": "ipython",
    "version": 3
   },
   "file_extension": ".py",
   "mimetype": "text/x-python",
   "name": "python",
   "nbconvert_exporter": "python",
   "pygments_lexer": "ipython3",
   "version": "3.9.12"
  }
 },
 "nbformat": 4,
 "nbformat_minor": 5
}
