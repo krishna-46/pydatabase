{
 "cells": [
  {
   "cell_type": "code",
   "execution_count": 11,
   "id": "75cbc108",
   "metadata": {},
   "outputs": [],
   "source": [
    "import numpy as np\n",
    "import pandas as pd\n",
    "#from pandas import DataFrame as DF"
   ]
  },
  {
   "cell_type": "code",
   "execution_count": 14,
   "id": "b95ae952",
   "metadata": {},
   "outputs": [
    {
     "data": {
      "text/html": [
       "<div>\n",
       "<style scoped>\n",
       "    .dataframe tbody tr th:only-of-type {\n",
       "        vertical-align: middle;\n",
       "    }\n",
       "\n",
       "    .dataframe tbody tr th {\n",
       "        vertical-align: top;\n",
       "    }\n",
       "\n",
       "    .dataframe thead th {\n",
       "        text-align: right;\n",
       "    }\n",
       "</style>\n",
       "<table border=\"1\" class=\"dataframe\">\n",
       "  <thead>\n",
       "    <tr style=\"text-align: right;\">\n",
       "      <th></th>\n",
       "      <th>Frist name</th>\n",
       "      <th>Last name</th>\n",
       "      <th>Type</th>\n",
       "      <th>Department</th>\n",
       "      <th>YOE</th>\n",
       "      <th>Salary</th>\n",
       "    </tr>\n",
       "  </thead>\n",
       "  <tbody>\n",
       "    <tr>\n",
       "      <th>0</th>\n",
       "      <td>Akash</td>\n",
       "      <td>Torvi</td>\n",
       "      <td>Full-Time</td>\n",
       "      <td>administraction</td>\n",
       "      <td>2</td>\n",
       "      <td>20000</td>\n",
       "    </tr>\n",
       "    <tr>\n",
       "      <th>1</th>\n",
       "      <td>Harshad</td>\n",
       "      <td>Walikar</td>\n",
       "      <td>Full-Time</td>\n",
       "      <td>Technical</td>\n",
       "      <td>4</td>\n",
       "      <td>30000</td>\n",
       "    </tr>\n",
       "    <tr>\n",
       "      <th>2</th>\n",
       "      <td>Rahul</td>\n",
       "      <td>B</td>\n",
       "      <td>intrn</td>\n",
       "      <td>administraction</td>\n",
       "      <td>2</td>\n",
       "      <td>40000</td>\n",
       "    </tr>\n",
       "    <tr>\n",
       "      <th>3</th>\n",
       "      <td>Abhinav</td>\n",
       "      <td>nai</td>\n",
       "      <td>Full-Time</td>\n",
       "      <td>administraction</td>\n",
       "      <td>6</td>\n",
       "      <td>50000</td>\n",
       "    </tr>\n",
       "    <tr>\n",
       "      <th>4</th>\n",
       "      <td>Gurya</td>\n",
       "      <td>Biradar</td>\n",
       "      <td>Part-Time</td>\n",
       "      <td>managemant</td>\n",
       "      <td>2</td>\n",
       "      <td>20000</td>\n",
       "    </tr>\n",
       "  </tbody>\n",
       "</table>\n",
       "</div>"
      ],
      "text/plain": [
       "  Frist name Last name       Type       Department  YOE  Salary\n",
       "0      Akash     Torvi  Full-Time  administraction    2   20000\n",
       "1    Harshad   Walikar  Full-Time        Technical    4   30000\n",
       "2      Rahul         B      intrn  administraction    2   40000\n",
       "3    Abhinav       nai  Full-Time  administraction    6   50000\n",
       "4      Gurya   Biradar  Part-Time       managemant    2   20000"
      ]
     },
     "execution_count": 14,
     "metadata": {},
     "output_type": "execute_result"
    }
   ],
   "source": [
    "df=DF(\n",
    "    [\n",
    "        ['Akash','Torvi','Full-Time','administraction',2,20000],\n",
    "        ['Harshad','Walikar','Full-Time','Technical',4,30000],\n",
    "        ['Rahul','B','intrn','administraction',2,40000],\n",
    "        ['Abhinav','nai','Full-Time','administraction',6,50000],\n",
    "        ['Gurya','Biradar','Part-Time','managemant',2,20000],\n",
    "    ],columns=['Frist name','Last name','Type','Department','YOE','Salary']\n",
    "\n",
    "\n",
    "\n",
    "    )\n",
    "df"
   ]
  },
  {
   "cell_type": "markdown",
   "id": "d2bfeded",
   "metadata": {},
   "source": [
    "1. Make a pivot table which shows average salary of each type of employee for each \n",
    "department."
   ]
  },
  {
   "cell_type": "code",
   "execution_count": 15,
   "id": "fb84b0ad",
   "metadata": {},
   "outputs": [
    {
     "data": {
      "text/html": [
       "<div>\n",
       "<style scoped>\n",
       "    .dataframe tbody tr th:only-of-type {\n",
       "        vertical-align: middle;\n",
       "    }\n",
       "\n",
       "    .dataframe tbody tr th {\n",
       "        vertical-align: top;\n",
       "    }\n",
       "\n",
       "    .dataframe thead th {\n",
       "        text-align: right;\n",
       "    }\n",
       "</style>\n",
       "<table border=\"1\" class=\"dataframe\">\n",
       "  <thead>\n",
       "    <tr style=\"text-align: right;\">\n",
       "      <th>Department</th>\n",
       "      <th>Technical</th>\n",
       "      <th>administraction</th>\n",
       "      <th>managemant</th>\n",
       "    </tr>\n",
       "    <tr>\n",
       "      <th>Type</th>\n",
       "      <th></th>\n",
       "      <th></th>\n",
       "      <th></th>\n",
       "    </tr>\n",
       "  </thead>\n",
       "  <tbody>\n",
       "    <tr>\n",
       "      <th>Full-Time</th>\n",
       "      <td>30000.0</td>\n",
       "      <td>70000.0</td>\n",
       "      <td>NaN</td>\n",
       "    </tr>\n",
       "    <tr>\n",
       "      <th>Part-Time</th>\n",
       "      <td>NaN</td>\n",
       "      <td>NaN</td>\n",
       "      <td>20000.0</td>\n",
       "    </tr>\n",
       "    <tr>\n",
       "      <th>intrn</th>\n",
       "      <td>NaN</td>\n",
       "      <td>40000.0</td>\n",
       "      <td>NaN</td>\n",
       "    </tr>\n",
       "  </tbody>\n",
       "</table>\n",
       "</div>"
      ],
      "text/plain": [
       "Department  Technical  administraction  managemant\n",
       "Type                                              \n",
       "Full-Time     30000.0          70000.0         NaN\n",
       "Part-Time         NaN              NaN     20000.0\n",
       "intrn             NaN          40000.0         NaN"
      ]
     },
     "execution_count": 15,
     "metadata": {},
     "output_type": "execute_result"
    }
   ],
   "source": [
    "table = pd.pivot_table(df,index ='Type',columns='Department',values='Salary',aggfunc='sum')\n",
    "table"
   ]
  },
  {
   "cell_type": "markdown",
   "id": "5ec74013",
   "metadata": {},
   "source": [
    "2. Make a pivot table which shows the sum and mean of the salaries of each type of \n",
    "employee and the number of employees of each type.\n"
   ]
  },
  {
   "cell_type": "code",
   "execution_count": 16,
   "id": "060c4e8c",
   "metadata": {},
   "outputs": [
    {
     "data": {
      "text/html": [
       "<div>\n",
       "<style scoped>\n",
       "    .dataframe tbody tr th:only-of-type {\n",
       "        vertical-align: middle;\n",
       "    }\n",
       "\n",
       "    .dataframe tbody tr th {\n",
       "        vertical-align: top;\n",
       "    }\n",
       "\n",
       "    .dataframe thead tr th {\n",
       "        text-align: left;\n",
       "    }\n",
       "\n",
       "    .dataframe thead tr:last-of-type th {\n",
       "        text-align: right;\n",
       "    }\n",
       "</style>\n",
       "<table border=\"1\" class=\"dataframe\">\n",
       "  <thead>\n",
       "    <tr>\n",
       "      <th></th>\n",
       "      <th>sum</th>\n",
       "      <th>mean</th>\n",
       "      <th>count</th>\n",
       "    </tr>\n",
       "    <tr>\n",
       "      <th></th>\n",
       "      <th>Salary</th>\n",
       "      <th>Salary</th>\n",
       "      <th>Salary</th>\n",
       "    </tr>\n",
       "    <tr>\n",
       "      <th>Type</th>\n",
       "      <th></th>\n",
       "      <th></th>\n",
       "      <th></th>\n",
       "    </tr>\n",
       "  </thead>\n",
       "  <tbody>\n",
       "    <tr>\n",
       "      <th>Full-Time</th>\n",
       "      <td>100000</td>\n",
       "      <td>33333.333333</td>\n",
       "      <td>3</td>\n",
       "    </tr>\n",
       "    <tr>\n",
       "      <th>Part-Time</th>\n",
       "      <td>20000</td>\n",
       "      <td>20000.000000</td>\n",
       "      <td>1</td>\n",
       "    </tr>\n",
       "    <tr>\n",
       "      <th>intrn</th>\n",
       "      <td>40000</td>\n",
       "      <td>40000.000000</td>\n",
       "      <td>1</td>\n",
       "    </tr>\n",
       "  </tbody>\n",
       "</table>\n",
       "</div>"
      ],
      "text/plain": [
       "              sum          mean  count\n",
       "           Salary        Salary Salary\n",
       "Type                                  \n",
       "Full-Time  100000  33333.333333      3\n",
       "Part-Time   20000  20000.000000      1\n",
       "intrn       40000  40000.000000      1"
      ]
     },
     "execution_count": 16,
     "metadata": {},
     "output_type": "execute_result"
    }
   ],
   "source": [
    "table = pd.pivot_table(df,index ='Type',values='Salary',aggfunc=['sum','mean','count'])\n",
    "table"
   ]
  },
  {
   "cell_type": "markdown",
   "id": "2aded46e",
   "metadata": {},
   "source": [
    "3. desplay povit table to count sarvival by gender ,catagoris vs age of varias     \n",
    "categorie1 0-10\n",
    "categorie2 10---30\n",
    "categorie3 30-60\n",
    "categorie4 60-80"
   ]
  },
  {
   "cell_type": "code",
   "execution_count": 15,
   "id": "090f4662",
   "metadata": {},
   "outputs": [
    {
     "name": "stdout",
     "output_type": "stream",
     "text": [
      "Pclass    1    2    3\n",
      "Sex                  \n",
      "female   92   76  143\n",
      "male    122  108  346\n"
     ]
    }
   ],
   "source": [
    "\n",
    "df = pd.read_csv('dataset/titanic.csv')\n",
    "age = pd.cut(df['Age'], [0, 10, 30, 60, 80])\n",
    "result = df.pivot_table('Survived', index=['Sex'], columns='Pclass', aggfunc='count')\n",
    "print(result)\n"
   ]
  },
  {
   "cell_type": "code",
   "execution_count": null,
   "id": "5274938e",
   "metadata": {},
   "outputs": [],
   "source": []
  }
 ],
 "metadata": {
  "kernelspec": {
   "display_name": "Python 3 (ipykernel)",
   "language": "python",
   "name": "python3"
  },
  "language_info": {
   "codemirror_mode": {
    "name": "ipython",
    "version": 3
   },
   "file_extension": ".py",
   "mimetype": "text/x-python",
   "name": "python",
   "nbconvert_exporter": "python",
   "pygments_lexer": "ipython3",
   "version": "3.9.12"
  }
 },
 "nbformat": 4,
 "nbformat_minor": 5
}
